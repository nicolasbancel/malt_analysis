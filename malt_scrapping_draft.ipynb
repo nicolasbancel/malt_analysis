{
 "cells": [
  {
   "cell_type": "markdown",
   "metadata": {},
   "source": [
    "- [Imports](#imports)\n",
    "- [Getting to search results page](#search)\n",
    "- [Final scraping](#final)\n",
    "    - [Functions](#functions)\n",
    "    - [Dataframes](#dataframes)\n",
    "    - [Parsing](#parsing)\n",
    "    - [Parsing Single Page](#parsing_single_page)\n",
    "- [Analysis](#analysis)\n",
    "    - [Impact du badge](#impact_badge)\n",
    "    - [Analysis TJMs](#tjms)\n",
    "    - [Skills](#skills)\n",
    "    - [Specific names](#names)\n",
    "- [Outputting / reading data](#output)\n",
    "- [Testing](#testing)\n",
    "    - [Extracting data from the page](#extracting)\n",
    "    - [Testing / HTML](#html)\n",
    "    - [Testing / Meaning of elements](#elements)"
   ]
  },
  {
   "cell_type": "markdown",
   "metadata": {},
   "source": [
    "## Imports<a id='imports'>"
   ]
  },
  {
   "cell_type": "code",
   "execution_count": 658,
   "metadata": {
    "scrolled": true
   },
   "outputs": [],
   "source": [
    "import requests \n",
    "from bs4 import BeautifulSoup\n",
    "from selenium import webdriver\n",
    "from webdriver_manager.chrome import ChromeDriverManager\n",
    "from selenium.webdriver.common.by import By\n",
    "from selenium.webdriver.common.keys import Keys\n",
    "from selenium.webdriver import ActionChains\n",
    "\n",
    "from selenium.webdriver.support.ui import WebDriverWait\n",
    "from selenium.webdriver.support import expected_conditions as EC\n",
    "\n",
    "import time\n",
    "import urllib.parse\n",
    "from datetime import datetime\n",
    "import pandas as pd\n",
    "import matplotlib.pyplot as plt"
   ]
  },
  {
   "cell_type": "code",
   "execution_count": 544,
   "metadata": {},
   "outputs": [],
   "source": [
    "#<a id=\"signinlink\" class=\"main-header-nav__link\" href=\"#\" rel=\"nofollow\"> Me connecter</a>"
   ]
  },
  {
   "cell_type": "code",
   "execution_count": 545,
   "metadata": {
    "scrolled": true
   },
   "outputs": [
    {
     "name": "stdout",
     "output_type": "stream",
     "text": [
      "CPU times: user 8 µs, sys: 18 µs, total: 26 µs\n",
      "Wall time: 31.9 µs\n"
     ]
    }
   ],
   "source": [
    "%%time\n",
    "a = 1"
   ]
  },
  {
   "cell_type": "markdown",
   "metadata": {},
   "source": [
    "## Getting to the search results page<a id='search'>"
   ]
  },
  {
   "cell_type": "markdown",
   "metadata": {},
   "source": [
    "## Final scraping<a id='final'>"
   ]
  },
  {
   "cell_type": "markdown",
   "metadata": {},
   "source": [
    "### Functions definitions<a id='functions'>"
   ]
  },
  {
   "cell_type": "code",
   "execution_count": 688,
   "metadata": {
    "scrolled": true
   },
   "outputs": [
    {
     "name": "stdout",
     "output_type": "stream",
     "text": [
      "CPU times: user 18 µs, sys: 7 µs, total: 25 µs\n",
      "Wall time: 28.4 µs\n"
     ]
    }
   ],
   "source": [
    "%%time\n",
    "\n",
    "def generate_paged_url(original_url, page_number):\n",
    "    if original_url.find('&p=') != -1:\n",
    "        index_page = original_url.find('&p=')\n",
    "        paged_url = original_url[:index_page] + f'&p={page_number}' #str(page_number)\n",
    "    else:\n",
    "        paged_url = original_url + f'&p={page_number}'\n",
    "    return paged_url\n",
    "\n",
    "def freelance_attributes(freelance):\n",
    "    # urllib.parse.urljoin(MALT_URL, None)\n",
    "    ranking       = index + 1\n",
    "    full_name     = freelance.find('p', 'profile-card-header__full-name').string.strip()\n",
    "    location      = freelance.find('p', 'profile-card-header__location').string.strip()\n",
    "    freelance_url = freelance.find('a')['href'].split('?')[0] if freelance.find('a') != None else None\n",
    "    rating        = freelance.find('div','profile-card-reputation__item').find(attrs={\"data-rating-star\":True})['data-rating-star'] \\\n",
    "                        if freelance.find('div','profile-card-reputation__item').find(attrs={\"data-rating-star\":True}) else None\n",
    "    num_recos         = freelance.find('div','profile-card-reputation__recommendation-label').find('strong').text \\\n",
    "                                 if freelance.find('div','profile-card-reputation__recommendation-label') \\\n",
    "                                 else None\n",
    "    #freelance.find('div','profile-card-reputation__recommendation-label')\n",
    "    num_missions  = freelance.find('div','profile-card-reputation__item') \\\n",
    "                             .find('span','sr-only') \\\n",
    "                             .previous_sibling.strip('()') if freelance.find('div','profile-card-reputation__item').find('span','sr-only') \\\n",
    "                             else None\n",
    "    #freelance.find('div','profile-card-reputation__item') \\\n",
    "    #.find('strong').text.strip('()missions')\n",
    "    tjm           = freelance.find('p', 'profile-card-reputation__rate').find('strong').text\n",
    "    badge         = freelance.find('div','profile-card__badge-level') \\\n",
    "                   .find('span') \\\n",
    "                   .text if freelance.find('div','profile-card__badge-level').find('span') else None\n",
    "    title         = freelance.find('h2').text.strip().capitalize()\n",
    "    dispo         = freelance.find('p','availability-indicator').text.strip() if freelance.find('p','availability-indicator') != None else None # Used to output ''\n",
    "    dispo_details = freelance.find('p','availability-indicator')['class'] if freelance.find('p','availability-indicator') != None else None # Used to output ''\n",
    "    if dispo_details is not None and len(dispo_details) > 1:\n",
    "        del dispo_details[0]\n",
    "    \n",
    "    dict_freelance = {'ranking':ranking,\n",
    "                        'full_name':full_name,\n",
    "                        'location':location,\n",
    "                        'freelance_url':freelance_url,\n",
    "                        'rating':rating,\n",
    "                        'num_missions':num_missions,\n",
    "                        'num_recos':num_recos,\n",
    "                        'tjm':tjm,\n",
    "                        'badge':badge,\n",
    "                        'title':title,\n",
    "                        'dispo':dispo,\n",
    "                        'dispo_details':dispo_details\n",
    "                       }\n",
    "    #print('Successfully parsed {}'.format(full_name))\n",
    "    return dict_freelance, full_name\n",
    "\n",
    "def freelance_skills(skill, full_name, skill_number):\n",
    "    dict_skills = {'full_name':full_name,\n",
    "                'skill':skill.text.strip(),\n",
    "                'skill_ranking':skill_number,\n",
    "                'skill_certified':skill.has_attr('data-content'),\n",
    "                'skill_comment':skill['data-content'] if skill.has_attr('data-content') else None}\n",
    "    return dict_skills\n",
    "\n",
    "def refactoring_data(df):\n",
    "    ##### Global ranking #####\n",
    "    NUM_FREELANCES_PER_PAGE = 24\n",
    "    df['global_ranking'] = df['ranking'] + (df['page_number'] - 1) * NUM_FREELANCES_PER_PAGE\n",
    "\n",
    "    lambda_func = lambda x : 'Not available - Info not provided' if (x == '' or x is None) \\\n",
    "                        else ('Available Full Time' if x[1] == 'FULL_TIME' \\\n",
    "                                 else 'Available Partial' if x[1] == 'PARTIAL' \\\n",
    "                                 else 'Not Available')\n",
    "    \n",
    "    df['dispo_final'] = df['dispo_details'].map(lambda_func)\n",
    "    \n",
    "    df['global_ranking'] = df['global_ranking'].astype(int)\n",
    "    df['ranking'] = df['ranking'].astype(int)\n",
    "    df['page_number'] = df['page_number'].astype(int)\n",
    "    # Probleme avec num_missions\n",
    "    #df['num_missions'] = df['num_missions'].astype(int)\n",
    "    df['rating'] = df['rating'].astype(float)\n",
    "    df['tjm'] = df['tjm'].str.strip('€').str.replace(u'\\xa0', u'')\n",
    "    df['tjm'] = df['tjm'].astype(int)\n",
    "    # replace(u'\\xa0', ' ') is for thousands : 1 250 is interpreted as 1\\xa0250  \n",
    "    df['num_missions'] = df['num_missions'].fillna(0).astype(int) "
   ]
  },
  {
   "cell_type": "markdown",
   "metadata": {},
   "source": [
    "### Dataframes<a id='dataframes'>"
   ]
  },
  {
   "cell_type": "code",
   "execution_count": 684,
   "metadata": {},
   "outputs": [],
   "source": [
    "del freelance_info\n",
    "del skills_df"
   ]
  },
  {
   "cell_type": "code",
   "execution_count": 689,
   "metadata": {
    "scrolled": false
   },
   "outputs": [
    {
     "name": "stdout",
     "output_type": "stream",
     "text": [
      "CPU times: user 21 µs, sys: 1 µs, total: 22 µs\n",
      "Wall time: 26 µs\n"
     ]
    }
   ],
   "source": [
    "%%time\n",
    "\n",
    "try:\n",
    "    freelance_info.shape\n",
    "except NameError:\n",
    "    freelance_info = pd.DataFrame(columns=['ranking',\n",
    "                                           'page_number',\n",
    "                                            'full_name',\n",
    "                                            'location',\n",
    "                                            'freelance_url',\n",
    "                                            'rating',\n",
    "                                            'num_missions',\n",
    "                                            'num_recos',\n",
    "                                            'tjm',\n",
    "                                            'badge',\n",
    "                                            'title',\n",
    "                                            'dispo',\n",
    "                                            'dispo_details',\n",
    "                                          'search_keyword',\n",
    "                                          'search_location',\n",
    "                                          'execution_time'])\n",
    "\n",
    "try:\n",
    "    skills_df.shape\n",
    "except NameError:\n",
    "    skills_df = pd.DataFrame(columns=['full_name',\n",
    "                                  'skill',\n",
    "                                  'skill_ranking',\n",
    "                                 'skill_certified',\n",
    "                                 'skill_comment',\n",
    "                                  'search_keyword',\n",
    "                                  'search_location',\n",
    "                                  'execution_time'])"
   ]
  },
  {
   "cell_type": "code",
   "execution_count": 691,
   "metadata": {},
   "outputs": [
    {
     "data": {
      "text/html": [
       "<div>\n",
       "<style scoped>\n",
       "    .dataframe tbody tr th:only-of-type {\n",
       "        vertical-align: middle;\n",
       "    }\n",
       "\n",
       "    .dataframe tbody tr th {\n",
       "        vertical-align: top;\n",
       "    }\n",
       "\n",
       "    .dataframe thead th {\n",
       "        text-align: right;\n",
       "    }\n",
       "</style>\n",
       "<table border=\"1\" class=\"dataframe\">\n",
       "  <thead>\n",
       "    <tr style=\"text-align: right;\">\n",
       "      <th></th>\n",
       "      <th>ranking</th>\n",
       "      <th>page_number</th>\n",
       "      <th>full_name</th>\n",
       "      <th>location</th>\n",
       "      <th>freelance_url</th>\n",
       "      <th>rating</th>\n",
       "      <th>num_missions</th>\n",
       "      <th>num_recos</th>\n",
       "      <th>tjm</th>\n",
       "      <th>badge</th>\n",
       "      <th>title</th>\n",
       "      <th>dispo</th>\n",
       "      <th>dispo_details</th>\n",
       "      <th>search_keyword</th>\n",
       "      <th>search_location</th>\n",
       "      <th>execution_time</th>\n",
       "    </tr>\n",
       "  </thead>\n",
       "  <tbody>\n",
       "  </tbody>\n",
       "</table>\n",
       "</div>"
      ],
      "text/plain": [
       "Empty DataFrame\n",
       "Columns: [ranking, page_number, full_name, location, freelance_url, rating, num_missions, num_recos, tjm, badge, title, dispo, dispo_details, search_keyword, search_location, execution_time]\n",
       "Index: []"
      ]
     },
     "execution_count": 691,
     "metadata": {},
     "output_type": "execute_result"
    }
   ],
   "source": [
    "skills_df\n",
    "freelance_info"
   ]
  },
  {
   "cell_type": "markdown",
   "metadata": {},
   "source": [
    "### Parsing<a id='parsing'>"
   ]
  },
  {
   "cell_type": "code",
   "execution_count": 652,
   "metadata": {
    "scrolled": true
   },
   "outputs": [
    {
     "data": {
      "text/plain": [
       "'https://www.malt.fr/'"
      ]
     },
     "execution_count": 652,
     "metadata": {},
     "output_type": "execute_result"
    }
   ],
   "source": [
    "MALT_URL"
   ]
  },
  {
   "cell_type": "code",
   "execution_count": 692,
   "metadata": {
    "scrolled": true
   },
   "outputs": [
    {
     "name": "stderr",
     "output_type": "stream",
     "text": [
      "[WDM] - Current google-chrome version is 84.0.4147\n",
      "[WDM] - Get LATEST driver version for 84.0.4147\n"
     ]
    },
    {
     "name": "stdout",
     "output_type": "stream",
     "text": [
      " \n"
     ]
    },
    {
     "name": "stderr",
     "output_type": "stream",
     "text": [
      "[WDM] - Driver [/Users/nicolasbancel/.wdm/drivers/chromedriver/mac64/84.0.4147.30/chromedriver] found in cache\n"
     ]
    }
   ],
   "source": [
    "#### START BROWSING ####\n",
    "driver = webdriver.Chrome(ChromeDriverManager().install())\n",
    "driver.get(MALT_URL)\n",
    "time.sleep(5) # 10 is the minimum - otherwise Signin is not surfaced\n",
    "\n",
    "#### OPENING SIGN IN LINK ####\n",
    "element = driver.find_element_by_id('signinlink')\n",
    "time.sleep(10) \n",
    "element.click()\n",
    "\n",
    "# WebDriverWait(driver, delay).until(EC.presence_of_element_located((By.ID, 'signinlink')))\n",
    "\n",
    "##### USERNAME #####\n",
    "time.sleep(2)\n",
    "username_element = driver.find_element_by_id('j_username')\n",
    "time.sleep(2)\n",
    "username_element.send_keys(MALT_USERNAME)\n",
    "time.sleep(2)\n",
    "\n",
    "##### PASSWORD #####\n",
    "password_element = driver.find_element_by_id('signin_password')\n",
    "time.sleep(2)\n",
    "password_element.send_keys(MALT_PASSWORD)\n",
    "time.sleep(2)\n",
    "\n",
    "##### SIGNIN #####\n",
    "driver.find_element_by_id('btnSignin').click()"
   ]
  },
  {
   "cell_type": "code",
   "execution_count": 666,
   "metadata": {},
   "outputs": [],
   "source": [
    "# MALT_SEARCH_KEYWORD = 'Python Data Science Machine Learning'\n",
    "# MALT_SEARCH_LOCATION = 'Lille, France'\n",
    "\n",
    "# time.sleep(5)\n",
    "# driver.find_element_by_id('main-header-search').click()\n",
    "\n",
    "# ##### ENTERING KEY WORDS #####\n",
    "# time.sleep(5)\n",
    "# driver.find_element_by_id('q2').clear()\n",
    "# driver.find_element_by_id('q2').send_keys(MALT_SEARCH_KEYWORD)\n",
    "\n",
    "# time.sleep(4)\n",
    "# #driver.find_element_by_id('location2').clear()\n",
    "# length_current_search = len(driver.find_element_by_id('location2').get_attribute('value'))\n",
    "# driver.find_element_by_id('location2').click()\n",
    "# while length_current_search > 0:\n",
    "#     # Gets to the middle of the text, so need to delete what's on the left (BACK_SPACE) and what's on the right (DELETE)\n",
    "#     driver.find_element_by_id('location2').send_keys(Keys.BACK_SPACE) \n",
    "#     driver.find_element_by_id('location2').send_keys(Keys.DELETE)\n",
    "#     length_current_search = len(driver.find_element_by_id('location2').get_attribute('value'))\n",
    "# time.sleep(2)\n",
    "# driver.find_element_by_id('location2').send_keys(MALT_SEARCH_LOCATION)\n",
    "# print('Location key inputted')\n",
    "# time.sleep(2)\n",
    "\n",
    "# # driver.find_element_by_id('location2').send_keys(Keys.RETURN)\n",
    "# #driver.find_element_by_id('location2').send_keys(Keys.ENTER)\n",
    "# driver.find_element_by_id('searchBtn2').click()\n",
    "\n",
    "# # RETURN doesn't change the URL\n",
    "# print('Clicked')\n",
    "# time.sleep(5)"
   ]
  },
  {
   "cell_type": "code",
   "execution_count": 733,
   "metadata": {
    "scrolled": true
   },
   "outputs": [
    {
     "ename": "WebDriverException",
     "evalue": "Message: chrome not reachable\n  (Session info: chrome=84.0.4147.105)\n",
     "output_type": "error",
     "traceback": [
      "\u001b[0;31m---------------------------------------------------------------------------\u001b[0m",
      "\u001b[0;31mWebDriverException\u001b[0m                        Traceback (most recent call last)",
      "\u001b[0;32m<timed exec>\u001b[0m in \u001b[0;36m<module>\u001b[0;34m\u001b[0m\n",
      "\u001b[0;32m~/anaconda3/lib/python3.7/site-packages/selenium-3.141.0-py3.7.egg/selenium/webdriver/remote/webdriver.py\u001b[0m in \u001b[0;36mfind_element_by_id\u001b[0;34m(self, id_)\u001b[0m\n\u001b[1;32m    358\u001b[0m             \u001b[0melement\u001b[0m \u001b[0;34m=\u001b[0m \u001b[0mdriver\u001b[0m\u001b[0;34m.\u001b[0m\u001b[0mfind_element_by_id\u001b[0m\u001b[0;34m(\u001b[0m\u001b[0;34m'foo'\u001b[0m\u001b[0;34m)\u001b[0m\u001b[0;34m\u001b[0m\u001b[0;34m\u001b[0m\u001b[0m\n\u001b[1;32m    359\u001b[0m         \"\"\"\n\u001b[0;32m--> 360\u001b[0;31m         \u001b[0;32mreturn\u001b[0m \u001b[0mself\u001b[0m\u001b[0;34m.\u001b[0m\u001b[0mfind_element\u001b[0m\u001b[0;34m(\u001b[0m\u001b[0mby\u001b[0m\u001b[0;34m=\u001b[0m\u001b[0mBy\u001b[0m\u001b[0;34m.\u001b[0m\u001b[0mID\u001b[0m\u001b[0;34m,\u001b[0m \u001b[0mvalue\u001b[0m\u001b[0;34m=\u001b[0m\u001b[0mid_\u001b[0m\u001b[0;34m)\u001b[0m\u001b[0;34m\u001b[0m\u001b[0;34m\u001b[0m\u001b[0m\n\u001b[0m\u001b[1;32m    361\u001b[0m \u001b[0;34m\u001b[0m\u001b[0m\n\u001b[1;32m    362\u001b[0m     \u001b[0;32mdef\u001b[0m \u001b[0mfind_elements_by_id\u001b[0m\u001b[0;34m(\u001b[0m\u001b[0mself\u001b[0m\u001b[0;34m,\u001b[0m \u001b[0mid_\u001b[0m\u001b[0;34m)\u001b[0m\u001b[0;34m:\u001b[0m\u001b[0;34m\u001b[0m\u001b[0;34m\u001b[0m\u001b[0m\n",
      "\u001b[0;32m~/anaconda3/lib/python3.7/site-packages/selenium-3.141.0-py3.7.egg/selenium/webdriver/remote/webdriver.py\u001b[0m in \u001b[0;36mfind_element\u001b[0;34m(self, by, value)\u001b[0m\n\u001b[1;32m    976\u001b[0m         return self.execute(Command.FIND_ELEMENT, {\n\u001b[1;32m    977\u001b[0m             \u001b[0;34m'using'\u001b[0m\u001b[0;34m:\u001b[0m \u001b[0mby\u001b[0m\u001b[0;34m,\u001b[0m\u001b[0;34m\u001b[0m\u001b[0;34m\u001b[0m\u001b[0m\n\u001b[0;32m--> 978\u001b[0;31m             'value': value})['value']\n\u001b[0m\u001b[1;32m    979\u001b[0m \u001b[0;34m\u001b[0m\u001b[0m\n\u001b[1;32m    980\u001b[0m     \u001b[0;32mdef\u001b[0m \u001b[0mfind_elements\u001b[0m\u001b[0;34m(\u001b[0m\u001b[0mself\u001b[0m\u001b[0;34m,\u001b[0m \u001b[0mby\u001b[0m\u001b[0;34m=\u001b[0m\u001b[0mBy\u001b[0m\u001b[0;34m.\u001b[0m\u001b[0mID\u001b[0m\u001b[0;34m,\u001b[0m \u001b[0mvalue\u001b[0m\u001b[0;34m=\u001b[0m\u001b[0;32mNone\u001b[0m\u001b[0;34m)\u001b[0m\u001b[0;34m:\u001b[0m\u001b[0;34m\u001b[0m\u001b[0;34m\u001b[0m\u001b[0m\n",
      "\u001b[0;32m~/anaconda3/lib/python3.7/site-packages/selenium-3.141.0-py3.7.egg/selenium/webdriver/remote/webdriver.py\u001b[0m in \u001b[0;36mexecute\u001b[0;34m(self, driver_command, params)\u001b[0m\n\u001b[1;32m    319\u001b[0m         \u001b[0mresponse\u001b[0m \u001b[0;34m=\u001b[0m \u001b[0mself\u001b[0m\u001b[0;34m.\u001b[0m\u001b[0mcommand_executor\u001b[0m\u001b[0;34m.\u001b[0m\u001b[0mexecute\u001b[0m\u001b[0;34m(\u001b[0m\u001b[0mdriver_command\u001b[0m\u001b[0;34m,\u001b[0m \u001b[0mparams\u001b[0m\u001b[0;34m)\u001b[0m\u001b[0;34m\u001b[0m\u001b[0;34m\u001b[0m\u001b[0m\n\u001b[1;32m    320\u001b[0m         \u001b[0;32mif\u001b[0m \u001b[0mresponse\u001b[0m\u001b[0;34m:\u001b[0m\u001b[0;34m\u001b[0m\u001b[0;34m\u001b[0m\u001b[0m\n\u001b[0;32m--> 321\u001b[0;31m             \u001b[0mself\u001b[0m\u001b[0;34m.\u001b[0m\u001b[0merror_handler\u001b[0m\u001b[0;34m.\u001b[0m\u001b[0mcheck_response\u001b[0m\u001b[0;34m(\u001b[0m\u001b[0mresponse\u001b[0m\u001b[0;34m)\u001b[0m\u001b[0;34m\u001b[0m\u001b[0;34m\u001b[0m\u001b[0m\n\u001b[0m\u001b[1;32m    322\u001b[0m             response['value'] = self._unwrap_value(\n\u001b[1;32m    323\u001b[0m                 response.get('value', None))\n",
      "\u001b[0;32m~/anaconda3/lib/python3.7/site-packages/selenium-3.141.0-py3.7.egg/selenium/webdriver/remote/errorhandler.py\u001b[0m in \u001b[0;36mcheck_response\u001b[0;34m(self, response)\u001b[0m\n\u001b[1;32m    240\u001b[0m                 \u001b[0malert_text\u001b[0m \u001b[0;34m=\u001b[0m \u001b[0mvalue\u001b[0m\u001b[0;34m[\u001b[0m\u001b[0;34m'alert'\u001b[0m\u001b[0;34m]\u001b[0m\u001b[0;34m.\u001b[0m\u001b[0mget\u001b[0m\u001b[0;34m(\u001b[0m\u001b[0;34m'text'\u001b[0m\u001b[0;34m)\u001b[0m\u001b[0;34m\u001b[0m\u001b[0;34m\u001b[0m\u001b[0m\n\u001b[1;32m    241\u001b[0m             \u001b[0;32mraise\u001b[0m \u001b[0mexception_class\u001b[0m\u001b[0;34m(\u001b[0m\u001b[0mmessage\u001b[0m\u001b[0;34m,\u001b[0m \u001b[0mscreen\u001b[0m\u001b[0;34m,\u001b[0m \u001b[0mstacktrace\u001b[0m\u001b[0;34m,\u001b[0m \u001b[0malert_text\u001b[0m\u001b[0;34m)\u001b[0m\u001b[0;34m\u001b[0m\u001b[0;34m\u001b[0m\u001b[0m\n\u001b[0;32m--> 242\u001b[0;31m         \u001b[0;32mraise\u001b[0m \u001b[0mexception_class\u001b[0m\u001b[0;34m(\u001b[0m\u001b[0mmessage\u001b[0m\u001b[0;34m,\u001b[0m \u001b[0mscreen\u001b[0m\u001b[0;34m,\u001b[0m \u001b[0mstacktrace\u001b[0m\u001b[0;34m)\u001b[0m\u001b[0;34m\u001b[0m\u001b[0;34m\u001b[0m\u001b[0m\n\u001b[0m\u001b[1;32m    243\u001b[0m \u001b[0;34m\u001b[0m\u001b[0m\n\u001b[1;32m    244\u001b[0m     \u001b[0;32mdef\u001b[0m \u001b[0m_value_or_default\u001b[0m\u001b[0;34m(\u001b[0m\u001b[0mself\u001b[0m\u001b[0;34m,\u001b[0m \u001b[0mobj\u001b[0m\u001b[0;34m,\u001b[0m \u001b[0mkey\u001b[0m\u001b[0;34m,\u001b[0m \u001b[0mdefault\u001b[0m\u001b[0;34m)\u001b[0m\u001b[0;34m:\u001b[0m\u001b[0;34m\u001b[0m\u001b[0;34m\u001b[0m\u001b[0m\n",
      "\u001b[0;31mWebDriverException\u001b[0m: Message: chrome not reachable\n  (Session info: chrome=84.0.4147.105)\n"
     ]
    }
   ],
   "source": [
    "%%time\n",
    "\n",
    "MALT_URL = 'https://www.malt.fr/'\n",
    "#MALT_PASSWORD = 'xxxxx'\n",
    "MALT_USERNAME = 'nicolas.bancel@gmail.com'\n",
    "# MALT_SEARCH_KEYWORD = 'Data'\n",
    "# MALT_SEARCH_KEYWORD = 'Data Science'\n",
    "MALT_SEARCH_KEYWORDS = ['Data Scientist', 'Data Engineer']\n",
    "MALT_SEARCH_LOCATION = 'Paris, France'\n",
    "EXECUTION_TIME = datetime.now().strftime('%Y-%m-%d %H:%M')\n",
    "\n",
    "\n",
    "# Data Engineer : 6 pages\n",
    "# Data Scientists : 16 pages\n",
    "\n",
    "for MALT_SEARCH_KEYWORD in MALT_SEARCH_KEYWORDS:\n",
    "    \n",
    "    skills_df_specific_search = pd.DataFrame(columns = skills_df.columns)\n",
    "    freelance_info_specific_search = pd.DataFrame(columns = freelance_info.columns)\n",
    "    \n",
    "    ##### SEARCH #####\n",
    "    time.sleep(5)\n",
    "    driver.find_element_by_id('main-header-search').click()\n",
    "\n",
    "    ##### ENTERING KEY WORDS #####\n",
    "    time.sleep(5)\n",
    "    driver.find_element_by_id('q2').clear()\n",
    "    driver.find_element_by_id('q2').send_keys(MALT_SEARCH_KEYWORD)\n",
    "\n",
    "    time.sleep(4)\n",
    "    #driver.find_element_by_id('location2').clear()\n",
    "    length_current_search = len(driver.find_element_by_id('location2').get_attribute('value'))\n",
    "    driver.find_element_by_id('location2').click()\n",
    "    while length_current_search > 0:\n",
    "        # Gets to the middle of the text, so need to delete what's on the left (BACK_SPACE) and what's on the right (DELETE)\n",
    "        driver.find_element_by_id('location2').send_keys(Keys.BACK_SPACE)\n",
    "        driver.find_element_by_id('location2').send_keys(Keys.DELETE)\n",
    "        length_current_search = len(driver.find_element_by_id('location2').get_attribute('value'))\n",
    "    time.sleep(2)\n",
    "    driver.find_element_by_id('location2').send_keys(MALT_SEARCH_LOCATION)\n",
    "    print('Location key inputted')\n",
    "    time.sleep(5)\n",
    "    #driver.find_element_by_id('location2').send_keys(Keys.RETURN)\n",
    "    #driver.find_element_by_id('location2').send_keys(Keys.ENTER)\n",
    "    #None of the above actually works\n",
    "    driver.find_element_by_id('searchBtn2').click()\n",
    "    print('Return sent')\n",
    "    time.sleep(10)\n",
    "\n",
    "    ##### STARTING THE SEARCH #####\n",
    "    ##### time.sleep(3)\n",
    "    ##### driver.find_element_by_id('searchBtn2').click()\n",
    "\n",
    "    ## STARTING TO PARSE\n",
    "    print('About to parse pages for keyword : {}'.format(MALT_SEARCH_KEYWORD))\n",
    "    \n",
    "    ## Getting the HTML\n",
    "    html_code = driver.page_source\n",
    "    soup = BeautifulSoup(html_code, 'html.parser')\n",
    "    freelance_list = soup.findAll(\"section\", {\"class\": \"profile-card\"})\n",
    "\n",
    "    pages_list = soup.find('ul', 'results-pager__list').find_all('a','results-pager__item')\n",
    "    pages_list = [x.text.strip() for x in pages_list]\n",
    "    num_pages = int(pages_list[-1])\n",
    "    print('Number of pages : {}'.format(num_pages))\n",
    "\n",
    "    # Make it start at 1 // Not at 0 (otherwise it's doubling it)\n",
    "    #for page_number in range(1,3):\n",
    "    #for page_number in range(3,4):\n",
    "    \n",
    "    for page_number in range(1,num_pages+1):\n",
    "    #for page_number in range(1,2):\n",
    "        print('Parsing page number {}'.format(page_number))\n",
    "        original_url = driver.current_url\n",
    "        url = generate_paged_url(original_url, page_number)\n",
    "        driver.get(url)\n",
    "        #print('Original URL : {}'.format(original_url))\n",
    "        print('About to parse URL {}'.format(url))\n",
    "\n",
    "        html_code = driver.page_source\n",
    "        soup = BeautifulSoup(html_code, 'html.parser')\n",
    "        freelance_list = soup.findAll(\"section\", {\"class\": \"profile-card\"})\n",
    "\n",
    "        for index, freelance in enumerate(freelance_list):\n",
    "            dict_freelance, full_name = freelance_attributes(freelance)\n",
    "            dict_freelance['page_number'] = page_number\n",
    "\n",
    "            freelance_info_specific_search = freelance_info_specific_search.append(dict_freelance, ignore_index=True)\n",
    "\n",
    "            skills = freelance.find_all('span','malt-tag')\n",
    "            skill_number = 1\n",
    "\n",
    "            #for index, skill in enumerate(skills):\n",
    "            #'skill_ranking':index+1,\n",
    "            for skill in skills:\n",
    "                # Cannot rely on the index to number the skill ranking.\n",
    "                # Using an increment instead\n",
    "                if skill.text.strip().startswith('+') is False:\n",
    "                    dict_skills = freelance_skills(skill, full_name, skill_number)\n",
    "                    #print(dict_skills)\n",
    "                    skills_df_specific_search = skills_df_specific_search.append(dict_skills, ignore_index=True)\n",
    "                    skill_number += 1\n",
    "\n",
    "    freelance_info_specific_search['search_keyword'] = MALT_SEARCH_KEYWORD\n",
    "    freelance_info_specific_search['search_location'] = MALT_SEARCH_LOCATION\n",
    "    freelance_info_specific_search['execution_time'] = EXECUTION_TIME\n",
    "\n",
    "    skills_df_specific_search['search_keyword'] = MALT_SEARCH_KEYWORD\n",
    "    skills_df_specific_search['search_location'] = MALT_SEARCH_LOCATION\n",
    "    skills_df_specific_search['execution_time'] = EXECUTION_TIME\n",
    "\n",
    "    ##### APPENDING TO FINAL DATAFRAME #####\n",
    "\n",
    "    freelance_info = freelance_info.append(freelance_info_specific_search)\n",
    "    skills_df = skills_df.append(skills_df_specific_search)\n",
    "    \n",
    "refactoring_data(freelance_info)\n",
    "freelance_info.to_csv('freelance_info_20200812.csv')\n",
    "skills_df.to_csv('freelance_skills_20200812.csv')"
   ]
  },
  {
   "cell_type": "markdown",
   "metadata": {},
   "source": [
    "### Parsing single page<a id='parsing_single_page'>"
   ]
  },
  {
   "cell_type": "code",
   "execution_count": 674,
   "metadata": {
    "scrolled": true
   },
   "outputs": [
    {
     "name": "stdout",
     "output_type": "stream",
     "text": [
      "Number of pages : 15\n"
     ]
    }
   ],
   "source": [
    "### Single page to be parsed\n",
    "\n",
    "skills_df_specific_search = pd.DataFrame(columns = skills_df.columns)\n",
    "freelance_info_specific_search = pd.DataFrame(columns = freelance_info.columns)\n",
    "\n",
    "page_to_parse = 23\n",
    "PARSING_SINGLE_PAGE_ACTIVE = 0\n",
    "\n",
    "print('Number of pages : {}'.format(num_pages))\n",
    "\n",
    "if PARSING_SINGLE_PAGE_ACTIVE == 1:\n",
    "    for page_number in range(page_to_parse,page_to_parse+1):\n",
    "        print('Parsing page number {}'.format(page_number))\n",
    "        original_url = driver.current_url\n",
    "        url = generate_paged_url(original_url, page_number)\n",
    "        driver.get(url)\n",
    "        print('About to parse URL {}'.format(url))\n",
    "\n",
    "        html_code = driver.page_source\n",
    "        soup = BeautifulSoup(html_code, 'html.parser')\n",
    "        freelance_list = soup.findAll(\"section\", {\"class\": \"profile-card\"})\n",
    "\n",
    "        for index, freelance in enumerate(freelance_list):\n",
    "            dict_freelance, full_name = freelance_attributes(freelance)\n",
    "            dict_freelance['page_number'] = page_number\n",
    "\n",
    "            freelance_info_specific_search = freelance_info_specific_search.append(dict_freelance, ignore_index=True)\n",
    "            #freelance_info = freelance_info.append(dict_freelance, ignore_index=True)\n",
    "\n",
    "            skills = freelance.find_all('span','malt-tag')\n",
    "            skill_number = 1\n",
    "\n",
    "            #for index, skill in enumerate(skills):\n",
    "            #'skill_ranking':index+1,\n",
    "            for skill in skills:\n",
    "                # Cannot rely on the index to number the skill ranking.\n",
    "                # Using an increment instead\n",
    "                if skill.text.strip().startswith('+') is False:\n",
    "                    dict_skills = freelance_skills(skill, full_name, skill_number)\n",
    "                    #print(dict_skills)\n",
    "                    skills_df_specific_search = skills_df_specific_search.append(dict_skills, ignore_index=True)\n",
    "                    skill_number += 1\n",
    "\n",
    "    freelance_info_specific_search['search_keyword'] = MALT_SEARCH_KEYWORD\n",
    "    freelance_info_specific_search['search_location'] = MALT_SEARCH_LOCATION\n",
    "\n",
    "    skills_df_specific_search['search_keyword'] = MALT_SEARCH_KEYWORD\n",
    "    skills_df_specific_search['search_location'] = MALT_SEARCH_LOCATION"
   ]
  },
  {
   "cell_type": "markdown",
   "metadata": {},
   "source": [
    "## Analysis<a id='analysis'>"
   ]
  },
  {
   "cell_type": "code",
   "execution_count": 696,
   "metadata": {
    "scrolled": false
   },
   "outputs": [
    {
     "data": {
      "text/html": [
       "<div>\n",
       "<style scoped>\n",
       "    .dataframe tbody tr th:only-of-type {\n",
       "        vertical-align: middle;\n",
       "    }\n",
       "\n",
       "    .dataframe tbody tr th {\n",
       "        vertical-align: top;\n",
       "    }\n",
       "\n",
       "    .dataframe thead th {\n",
       "        text-align: right;\n",
       "    }\n",
       "</style>\n",
       "<table border=\"1\" class=\"dataframe\">\n",
       "  <thead>\n",
       "    <tr style=\"text-align: right;\">\n",
       "      <th></th>\n",
       "      <th>search_keyword</th>\n",
       "      <th>full_name</th>\n",
       "    </tr>\n",
       "  </thead>\n",
       "  <tbody>\n",
       "    <tr>\n",
       "      <th>0</th>\n",
       "      <td>Data Engineer</td>\n",
       "      <td>265</td>\n",
       "    </tr>\n",
       "    <tr>\n",
       "      <th>1</th>\n",
       "      <td>Data Scientist</td>\n",
       "      <td>655</td>\n",
       "    </tr>\n",
       "  </tbody>\n",
       "</table>\n",
       "</div>"
      ],
      "text/plain": [
       "   search_keyword  full_name\n",
       "0   Data Engineer        265\n",
       "1  Data Scientist        655"
      ]
     },
     "execution_count": 696,
     "metadata": {},
     "output_type": "execute_result"
    }
   ],
   "source": [
    "freelance_info.groupby('search_keyword').agg({'full_name':'count'}).reset_index()"
   ]
  },
  {
   "cell_type": "markdown",
   "metadata": {},
   "source": [
    "### Impact du badge<a id='impact_badge'>"
   ]
  },
  {
   "cell_type": "code",
   "execution_count": 695,
   "metadata": {},
   "outputs": [
    {
     "data": {
      "text/html": [
       "<div>\n",
       "<style scoped>\n",
       "    .dataframe tbody tr th:only-of-type {\n",
       "        vertical-align: middle;\n",
       "    }\n",
       "\n",
       "    .dataframe tbody tr th {\n",
       "        vertical-align: top;\n",
       "    }\n",
       "\n",
       "    .dataframe thead th {\n",
       "        text-align: right;\n",
       "    }\n",
       "</style>\n",
       "<table border=\"1\" class=\"dataframe\">\n",
       "  <thead>\n",
       "    <tr style=\"text-align: right;\">\n",
       "      <th></th>\n",
       "      <th>badge</th>\n",
       "      <th>global_ranking</th>\n",
       "      <th>full_name</th>\n",
       "    </tr>\n",
       "  </thead>\n",
       "  <tbody>\n",
       "    <tr>\n",
       "      <th>0</th>\n",
       "      <td>No Badge</td>\n",
       "      <td>287.886872</td>\n",
       "      <td>716</td>\n",
       "    </tr>\n",
       "    <tr>\n",
       "      <th>1</th>\n",
       "      <td>Nouveau</td>\n",
       "      <td>232.122581</td>\n",
       "      <td>155</td>\n",
       "    </tr>\n",
       "    <tr>\n",
       "      <th>2</th>\n",
       "      <td>Super Malter</td>\n",
       "      <td>162.836735</td>\n",
       "      <td>49</td>\n",
       "    </tr>\n",
       "  </tbody>\n",
       "</table>\n",
       "</div>"
      ],
      "text/plain": [
       "          badge  global_ranking  full_name\n",
       "0      No Badge      287.886872        716\n",
       "1       Nouveau      232.122581        155\n",
       "2  Super Malter      162.836735         49"
      ]
     },
     "execution_count": 695,
     "metadata": {},
     "output_type": "execute_result"
    }
   ],
   "source": [
    "freelance_info.fillna('No Badge').groupby(by='badge') \\\n",
    "                                 .agg({'global_ranking':'mean',\n",
    "                                       'full_name':'count'}) \\\n",
    "                                 .reset_index()   \n",
    "#[['full_name']]"
   ]
  },
  {
   "cell_type": "markdown",
   "metadata": {},
   "source": [
    "### Analysis TJMs<a id='tjms'>"
   ]
  },
  {
   "cell_type": "code",
   "execution_count": null,
   "metadata": {
    "scrolled": true
   },
   "outputs": [],
   "source": [
    "#%%latex\n",
    "#$$c = \\sqrt{a^2 + b^2}$$"
   ]
  },
  {
   "cell_type": "code",
   "execution_count": 602,
   "metadata": {
    "scrolled": false
   },
   "outputs": [
    {
     "data": {
      "image/png": "[encoded data removed]",
      "text/plain": [
       "<Figure size 720x360 with 1 Axes>"
      ]
     },
     "metadata": {
      "needs_background": "light"
     },
     "output_type": "display_data"
    }
   ],
   "source": [
    "# https://matplotlib.org/3.1.1/api/_as_gen/matplotlib.pyplot.annotate.html\n",
    "\n",
    "#freelance_info['tjm'].hist(bins = 20)\n",
    "#plt.show()\n",
    "plt.figure(figsize=(10,5))\n",
    "n, bins, patches = plt.hist(freelance_info['tjm'])\n",
    "\n",
    "\n",
    "total_freelance = sum(n)\n",
    "perc = n / total_freelance * 100\n",
    "perc = np.around(perc, 2)\n",
    "\n",
    "plt.xlabel('TJM')\n",
    "plt.ylabel('Num freelances')\n",
    "plt.title('Hist - TJMs')\n",
    "locs, labels = plt.xticks()\n",
    "plt.xticks(\n",
    "    rotation=90,\n",
    "    horizontalalignment='center',\n",
    "    ticks = bins,\n",
    "    #ticks = np.arange(0,10,1),\n",
    "    #labels=bins\n",
    ")\n",
    "plt.grid(axis='y', alpha=0.75)\n",
    "\n",
    "labels = [str(x) + ' %' for x in perc]\n",
    "cumulative_x = 0\n",
    "\n",
    "for rect, label in zip(patches, annotations):\n",
    "    \n",
    "    ##### At which x to put the annotations\n",
    "    ##### Increases as the loop goes forward\n",
    "    x_value = rect.get_width() + cumulative_x\n",
    "    \n",
    "    #print(x_value)\n",
    "    \n",
    "    ##### At which y to put the annotations\n",
    "    ##### Vertical offset : xxx above the rectangles\n",
    "    vertical_offset = 10\n",
    "    y_value = rect.get_y() + rect.get_height() + vertical_offset\n",
    "    \n",
    "    #print(y_value)\n",
    "    \n",
    "    # Number of points between bar and label. Change to your liking.\n",
    "    space = 0\n",
    "    #space = 5\n",
    "    \n",
    "    # Vertical alignment for positive values\n",
    "    ha = 'left'\n",
    "    \n",
    "    # If value of bar is negative: Place label left of bar\n",
    "    if x_value < 0:\n",
    "        # Invert space to place label to the left\n",
    "        space *= -1\n",
    "        # Horizontally align label at right\n",
    "        ha = 'right'\n",
    "    plt.annotate(label,\n",
    "                xy=(x_value,y_value),\n",
    "                xytext=(space,0),\n",
    "                textcoords=\"offset points\", # Interpret `xytext` as offset in points\n",
    "                va='center',                # Vertically center label\n",
    "                ha=ha)                      # Horizontally align label differently for positive and negative values.)\n",
    "    cumulative_x += rect.get_width()\n",
    "\n",
    "plt.show()"
   ]
  },
  {
   "cell_type": "code",
   "execution_count": 603,
   "metadata": {
    "scrolled": false
   },
   "outputs": [
    {
     "name": "stdout",
     "output_type": "stream",
     "text": [
      "42.28 % of freelancers have a TJM higher than yours\n",
      "57.72 % of freelancers have a TJM lower than yours\n"
     ]
    }
   ],
   "source": [
    "FULL_NAME = 'Nicolas Bancel'\n",
    "personal_tjm = freelance_info[freelance_info['full_name']==FULL_NAME]['tjm'].array[0]\n",
    "\n",
    "num_freelances = freelance_info.shape[0]\n",
    "num_freelances_lower = freelance_info[freelance_info['tjm']<=personal_tjm].shape[0]\n",
    "\n",
    "perc_below_your_tjm = round(num_freelances_lower / num_freelances * 100, 2)\n",
    "perc_above_your_tjm = round(100 - perc_below_your_tjm, 2)\n",
    "\n",
    "print('{} % of freelancers have a TJM higher than yours'.format(perc_above_your_tjm))\n",
    "print('{} % of freelancers have a TJM lower than yours'.format(perc_below_your_tjm))"
   ]
  },
  {
   "cell_type": "code",
   "execution_count": 677,
   "metadata": {},
   "outputs": [
    {
     "data": {
      "image/png": "[encoded data removed]",
      "text/plain": [
       "<Figure size 432x288 with 1 Axes>"
      ]
     },
     "metadata": {
      "needs_background": "light"
     },
     "output_type": "display_data"
    }
   ],
   "source": [
    "df = pd.pivot_table(freelance_info, index = freelance_info.index, columns='search_keyword', values='tjm')\n",
    "\n",
    "df.boxplot()\n",
    "#plt.boxplot(df) // THIS ONE TAKES AGES TO LOAD\n",
    "plt.xlabel('Keyword')\n",
    "plt.ylabel('Num freelances')\n",
    "plt.title('Hist - TJMs')\n",
    "plt.show()"
   ]
  },
  {
   "cell_type": "code",
   "execution_count": null,
   "metadata": {},
   "outputs": [],
   "source": [
    "# DOES NOT WORK WHEN MULTIPLE KEY WORDS\n",
    "\n",
    "# list_keywords = list(freelance_info['search_keyword'].unique())\n",
    "# for keyword in list_keywords:\n",
    "#     df = freelance_info[freelance_info['search_keyword']==keyword][['tjm', 'search_keyword']]\n",
    "#     plt.boxplot(df['tjm'])\n",
    "#     locs, labels = plt.xticks()\n",
    "#     plt.xticks(ticks=locs,labels=[keyword])\n",
    "#     print(locs)\n",
    "#     print(labels)\n",
    "\n",
    "# plt.xlabel('Keyword')\n",
    "# plt.ylabel('Num freelances')\n",
    "# plt.title('Hist - TJMs')\n",
    "# plt.show()"
   ]
  },
  {
   "cell_type": "markdown",
   "metadata": {},
   "source": [
    "### General stats"
   ]
  },
  {
   "cell_type": "code",
   "execution_count": 678,
   "metadata": {},
   "outputs": [],
   "source": [
    "num_freelances = freelance_info.shape[0]\n",
    "personal_ranking = freelance_info[freelance_info['full_name']==FULL_NAME]['global_ranking'].values[0]\n",
    "perc_ranking = personal_ranking / num_freelances"
   ]
  },
  {
   "cell_type": "code",
   "execution_count": 679,
   "metadata": {
    "scrolled": true
   },
   "outputs": [],
   "source": [
    "freelance_info_summary = freelance_info.groupby('search_keyword').agg({'full_name':['count'],\n",
    "                                             'tjm':['mean', 'median'],\n",
    "                                              'num_missions':['mean', 'median', max],\n",
    "                                              'global_ranking':max,\n",
    "                                              'page_number':max,\n",
    "                                              'rating':['mean', 'median'],\n",
    "                                             })"
   ]
  },
  {
   "cell_type": "code",
   "execution_count": 680,
   "metadata": {},
   "outputs": [],
   "source": [
    "freelance_info_summary.columns = [x[0] + ' - ' + x[1] for x in freelance_info_summary.columns]"
   ]
  },
  {
   "cell_type": "code",
   "execution_count": 681,
   "metadata": {
    "scrolled": false
   },
   "outputs": [
    {
     "data": {
      "text/html": [
       "<div>\n",
       "<style scoped>\n",
       "    .dataframe tbody tr th:only-of-type {\n",
       "        vertical-align: middle;\n",
       "    }\n",
       "\n",
       "    .dataframe tbody tr th {\n",
       "        vertical-align: top;\n",
       "    }\n",
       "\n",
       "    .dataframe thead th {\n",
       "        text-align: right;\n",
       "    }\n",
       "</style>\n",
       "<table border=\"1\" class=\"dataframe\">\n",
       "  <thead>\n",
       "    <tr style=\"text-align: right;\">\n",
       "      <th></th>\n",
       "      <th>full_name - count</th>\n",
       "      <th>tjm - mean</th>\n",
       "      <th>tjm - median</th>\n",
       "      <th>num_missions - mean</th>\n",
       "      <th>num_missions - median</th>\n",
       "      <th>num_missions - max</th>\n",
       "      <th>global_ranking - max</th>\n",
       "      <th>page_number - max</th>\n",
       "      <th>rating - mean</th>\n",
       "      <th>rating - median</th>\n",
       "    </tr>\n",
       "    <tr>\n",
       "      <th>search_keyword</th>\n",
       "      <th></th>\n",
       "      <th></th>\n",
       "      <th></th>\n",
       "      <th></th>\n",
       "      <th></th>\n",
       "      <th></th>\n",
       "      <th></th>\n",
       "      <th></th>\n",
       "      <th></th>\n",
       "      <th></th>\n",
       "    </tr>\n",
       "  </thead>\n",
       "  <tbody>\n",
       "    <tr>\n",
       "      <th>Data Engineer</th>\n",
       "      <td>1214</td>\n",
       "      <td>567.653213</td>\n",
       "      <td>555</td>\n",
       "      <td>0.799012</td>\n",
       "      <td>0</td>\n",
       "      <td>99</td>\n",
       "      <td>864</td>\n",
       "      <td>36</td>\n",
       "      <td>4.840580</td>\n",
       "      <td>5.0</td>\n",
       "    </tr>\n",
       "    <tr>\n",
       "      <th>Data Scientist</th>\n",
       "      <td>864</td>\n",
       "      <td>556.127315</td>\n",
       "      <td>550</td>\n",
       "      <td>0.894676</td>\n",
       "      <td>0</td>\n",
       "      <td>99</td>\n",
       "      <td>864</td>\n",
       "      <td>36</td>\n",
       "      <td>4.862745</td>\n",
       "      <td>5.0</td>\n",
       "    </tr>\n",
       "  </tbody>\n",
       "</table>\n",
       "</div>"
      ],
      "text/plain": [
       "                full_name - count  tjm - mean  tjm - median  \\\n",
       "search_keyword                                                \n",
       "Data Engineer                1214  567.653213           555   \n",
       "Data Scientist                864  556.127315           550   \n",
       "\n",
       "                num_missions - mean  num_missions - median  \\\n",
       "search_keyword                                               \n",
       "Data Engineer              0.799012                      0   \n",
       "Data Scientist             0.894676                      0   \n",
       "\n",
       "                num_missions - max  global_ranking - max  page_number - max  \\\n",
       "search_keyword                                                                \n",
       "Data Engineer                   99                   864                 36   \n",
       "Data Scientist                  99                   864                 36   \n",
       "\n",
       "                rating - mean  rating - median  \n",
       "search_keyword                                  \n",
       "Data Engineer        4.840580              5.0  \n",
       "Data Scientist       4.862745              5.0  "
      ]
     },
     "execution_count": 681,
     "metadata": {},
     "output_type": "execute_result"
    }
   ],
   "source": [
    "freelance_info_summary.head(2)"
   ]
  },
  {
   "cell_type": "code",
   "execution_count": 682,
   "metadata": {
    "scrolled": true
   },
   "outputs": [
    {
     "name": "stderr",
     "output_type": "stream",
     "text": [
      "/Users/nicolasbancel/anaconda3/lib/python3.7/site-packages/ipykernel_launcher.py:8: SettingWithCopyWarning: \n",
      "A value is trying to be set on a copy of a slice from a DataFrame.\n",
      "Try using .loc[row_indexer,col_indexer] = value instead\n",
      "\n",
      "See the caveats in the documentation: https://pandas.pydata.org/pandas-docs/stable/user_guide/indexing.html#returning-a-view-versus-a-copy\n",
      "  \n"
     ]
    }
   ],
   "source": [
    "yourself = freelance_info[freelance_info['full_name']==FULL_NAME].reset_index().drop(columns='index')\n",
    "yourself = yourself.drop(1, axis=0)\n",
    "## Merge is a module function (taking arguments of dfs to be merged)\n",
    "## JOIN is a object function (applied on a dataframe)\n",
    "## Under the hood, JOIN uses merge\n",
    "merged = pd.merge(yourself, freelance_info_summary, how='left', on=[yourself['search_keyword'],freelance_info_summary.index])\n",
    "summary = merged[['search_keyword','full_name','global_ranking','page_number','num_missions','tjm','full_name - count']]\n",
    "summary['perc_ranking'] = summary['global_ranking'] / summary['full_name - count']"
   ]
  },
  {
   "cell_type": "code",
   "execution_count": 683,
   "metadata": {},
   "outputs": [
    {
     "data": {
      "text/html": [
       "<div>\n",
       "<style scoped>\n",
       "    .dataframe tbody tr th:only-of-type {\n",
       "        vertical-align: middle;\n",
       "    }\n",
       "\n",
       "    .dataframe tbody tr th {\n",
       "        vertical-align: top;\n",
       "    }\n",
       "\n",
       "    .dataframe thead th {\n",
       "        text-align: right;\n",
       "    }\n",
       "</style>\n",
       "<table border=\"1\" class=\"dataframe\">\n",
       "  <thead>\n",
       "    <tr style=\"text-align: right;\">\n",
       "      <th></th>\n",
       "      <th>search_keyword</th>\n",
       "      <th>full_name</th>\n",
       "      <th>global_ranking</th>\n",
       "      <th>page_number</th>\n",
       "      <th>num_missions</th>\n",
       "      <th>tjm</th>\n",
       "      <th>full_name - count</th>\n",
       "      <th>perc_ranking</th>\n",
       "    </tr>\n",
       "  </thead>\n",
       "  <tbody>\n",
       "    <tr>\n",
       "      <th>0</th>\n",
       "      <td>Data Scientist</td>\n",
       "      <td>Nicolas Bancel</td>\n",
       "      <td>462</td>\n",
       "      <td>20</td>\n",
       "      <td>0</td>\n",
       "      <td>550</td>\n",
       "      <td>1214</td>\n",
       "      <td>0.380560</td>\n",
       "    </tr>\n",
       "    <tr>\n",
       "      <th>1</th>\n",
       "      <td>Data Engineer</td>\n",
       "      <td>Nicolas Bancel</td>\n",
       "      <td>235</td>\n",
       "      <td>10</td>\n",
       "      <td>0</td>\n",
       "      <td>550</td>\n",
       "      <td>864</td>\n",
       "      <td>0.271991</td>\n",
       "    </tr>\n",
       "  </tbody>\n",
       "</table>\n",
       "</div>"
      ],
      "text/plain": [
       "   search_keyword       full_name  global_ranking  page_number  num_missions  \\\n",
       "0  Data Scientist  Nicolas Bancel             462           20             0   \n",
       "1   Data Engineer  Nicolas Bancel             235           10             0   \n",
       "\n",
       "   tjm  full_name - count  perc_ranking  \n",
       "0  550               1214      0.380560  \n",
       "1  550                864      0.271991  "
      ]
     },
     "execution_count": 683,
     "metadata": {},
     "output_type": "execute_result"
    }
   ],
   "source": [
    "summary"
   ]
  },
  {
   "cell_type": "markdown",
   "metadata": {},
   "source": [
    "### Skills<a id='skills'>"
   ]
  },
  {
   "cell_type": "code",
   "execution_count": 611,
   "metadata": {
    "scrolled": false
   },
   "outputs": [
    {
     "data": {
      "text/html": [
       "<div>\n",
       "<style scoped>\n",
       "    .dataframe tbody tr th:only-of-type {\n",
       "        vertical-align: middle;\n",
       "    }\n",
       "\n",
       "    .dataframe tbody tr th {\n",
       "        vertical-align: top;\n",
       "    }\n",
       "\n",
       "    .dataframe thead th {\n",
       "        text-align: right;\n",
       "    }\n",
       "</style>\n",
       "<table border=\"1\" class=\"dataframe\">\n",
       "  <thead>\n",
       "    <tr style=\"text-align: right;\">\n",
       "      <th></th>\n",
       "      <th>skill</th>\n",
       "    </tr>\n",
       "    <tr>\n",
       "      <th>full_name</th>\n",
       "      <th></th>\n",
       "    </tr>\n",
       "  </thead>\n",
       "  <tbody>\n",
       "    <tr>\n",
       "      <th>Abdel Ismael Traore</th>\n",
       "      <td>30</td>\n",
       "    </tr>\n",
       "    <tr>\n",
       "      <th>Abdel Jelil Aminetou</th>\n",
       "      <td>39</td>\n",
       "    </tr>\n",
       "    <tr>\n",
       "      <th>Abderrahmane Lounis</th>\n",
       "      <td>45</td>\n",
       "    </tr>\n",
       "    <tr>\n",
       "      <th>Adam Quinquenel</th>\n",
       "      <td>81</td>\n",
       "    </tr>\n",
       "    <tr>\n",
       "      <th>Adrien Chevallier</th>\n",
       "      <td>63</td>\n",
       "    </tr>\n",
       "  </tbody>\n",
       "</table>\n",
       "</div>"
      ],
      "text/plain": [
       "                      skill\n",
       "full_name                  \n",
       "Abdel Ismael Traore      30\n",
       "Abdel Jelil Aminetou     39\n",
       "Abderrahmane Lounis      45\n",
       "Adam Quinquenel          81\n",
       "Adrien Chevallier        63"
      ]
     },
     "execution_count": 611,
     "metadata": {},
     "output_type": "execute_result"
    }
   ],
   "source": [
    "skills_df.groupby('full_name')[['skill']].count().head(5)"
   ]
  },
  {
   "cell_type": "markdown",
   "metadata": {},
   "source": [
    "### Specific names<a id='names'>"
   ]
  },
  {
   "cell_type": "code",
   "execution_count": 612,
   "metadata": {},
   "outputs": [
    {
     "data": {
      "text/html": [
       "<div>\n",
       "<style scoped>\n",
       "    .dataframe tbody tr th:only-of-type {\n",
       "        vertical-align: middle;\n",
       "    }\n",
       "\n",
       "    .dataframe tbody tr th {\n",
       "        vertical-align: top;\n",
       "    }\n",
       "\n",
       "    .dataframe thead th {\n",
       "        text-align: right;\n",
       "    }\n",
       "</style>\n",
       "<table border=\"1\" class=\"dataframe\">\n",
       "  <thead>\n",
       "    <tr style=\"text-align: right;\">\n",
       "      <th></th>\n",
       "      <th>ranking</th>\n",
       "      <th>page_number</th>\n",
       "      <th>full_name</th>\n",
       "      <th>location</th>\n",
       "      <th>freelance_url</th>\n",
       "      <th>rating</th>\n",
       "      <th>num_missions</th>\n",
       "      <th>num_recos</th>\n",
       "      <th>tjm</th>\n",
       "      <th>badge</th>\n",
       "      <th>title</th>\n",
       "      <th>dispo</th>\n",
       "      <th>dispo_details</th>\n",
       "      <th>search_keyword</th>\n",
       "      <th>search_location</th>\n",
       "      <th>execution_time</th>\n",
       "      <th>global_ranking</th>\n",
       "      <th>dispo_final</th>\n",
       "    </tr>\n",
       "  </thead>\n",
       "  <tbody>\n",
       "    <tr>\n",
       "      <th>134</th>\n",
       "      <td>15</td>\n",
       "      <td>6</td>\n",
       "      <td>Thomas Bancel</td>\n",
       "      <td>Paris, France</td>\n",
       "      <td>/profile/thomasbancelpro</td>\n",
       "      <td>NaN</td>\n",
       "      <td>0</td>\n",
       "      <td>1</td>\n",
       "      <td>700</td>\n",
       "      <td>None</td>\n",
       "      <td>Data scientist &amp; développeur freelance</td>\n",
       "      <td>None</td>\n",
       "      <td>None</td>\n",
       "      <td>Data Engineer</td>\n",
       "      <td>Paris</td>\n",
       "      <td>2020-08-11 20:40</td>\n",
       "      <td>135</td>\n",
       "      <td>Not available - Info not provided</td>\n",
       "    </tr>\n",
       "    <tr>\n",
       "      <th>503</th>\n",
       "      <td>15</td>\n",
       "      <td>6</td>\n",
       "      <td>Thomas Bancel</td>\n",
       "      <td>Paris, France</td>\n",
       "      <td>/profile/thomasbancelpro</td>\n",
       "      <td>NaN</td>\n",
       "      <td>0</td>\n",
       "      <td>1</td>\n",
       "      <td>700</td>\n",
       "      <td>None</td>\n",
       "      <td>Data scientist &amp; développeur freelance</td>\n",
       "      <td>None</td>\n",
       "      <td>None</td>\n",
       "      <td>Data Engineer</td>\n",
       "      <td>Paris</td>\n",
       "      <td>2020-08-11 20:40</td>\n",
       "      <td>135</td>\n",
       "      <td>Not available - Info not provided</td>\n",
       "    </tr>\n",
       "    <tr>\n",
       "      <th>155</th>\n",
       "      <td>12</td>\n",
       "      <td>7</td>\n",
       "      <td>Nicolas Bancel</td>\n",
       "      <td>Paris, France</td>\n",
       "      <td>/profile/nicolasbancel</td>\n",
       "      <td>NaN</td>\n",
       "      <td>0</td>\n",
       "      <td>1</td>\n",
       "      <td>550</td>\n",
       "      <td>None</td>\n",
       "      <td>Data scientist | data engineer | python / sql</td>\n",
       "      <td>Disponible</td>\n",
       "      <td>[AVAILABLE_AND_VERIFIED, FULL_TIME]</td>\n",
       "      <td>Data Engineer</td>\n",
       "      <td>Paris</td>\n",
       "      <td>2020-08-11 20:40</td>\n",
       "      <td>156</td>\n",
       "      <td>Available Full Time</td>\n",
       "    </tr>\n",
       "    <tr>\n",
       "      <th>524</th>\n",
       "      <td>12</td>\n",
       "      <td>7</td>\n",
       "      <td>Nicolas Bancel</td>\n",
       "      <td>Paris, France</td>\n",
       "      <td>/profile/nicolasbancel</td>\n",
       "      <td>NaN</td>\n",
       "      <td>0</td>\n",
       "      <td>1</td>\n",
       "      <td>550</td>\n",
       "      <td>None</td>\n",
       "      <td>Data scientist | data engineer | python / sql</td>\n",
       "      <td>Disponible</td>\n",
       "      <td>[AVAILABLE_AND_VERIFIED, FULL_TIME]</td>\n",
       "      <td>Data Engineer</td>\n",
       "      <td>Paris</td>\n",
       "      <td>2020-08-11 20:40</td>\n",
       "      <td>156</td>\n",
       "      <td>Available Full Time</td>\n",
       "    </tr>\n",
       "    <tr>\n",
       "      <th>301</th>\n",
       "      <td>14</td>\n",
       "      <td>13</td>\n",
       "      <td>Victor Challier</td>\n",
       "      <td>Paris, France</td>\n",
       "      <td>/profile/victorchallier</td>\n",
       "      <td>NaN</td>\n",
       "      <td>0</td>\n",
       "      <td>3</td>\n",
       "      <td>750</td>\n",
       "      <td>None</td>\n",
       "      <td>Cloud architect &amp; data engineer</td>\n",
       "      <td>None</td>\n",
       "      <td>None</td>\n",
       "      <td>Data Engineer</td>\n",
       "      <td>Paris</td>\n",
       "      <td>2020-08-11 20:40</td>\n",
       "      <td>302</td>\n",
       "      <td>Not available - Info not provided</td>\n",
       "    </tr>\n",
       "    <tr>\n",
       "      <th>670</th>\n",
       "      <td>14</td>\n",
       "      <td>13</td>\n",
       "      <td>Victor Challier</td>\n",
       "      <td>Paris, France</td>\n",
       "      <td>/profile/victorchallier</td>\n",
       "      <td>NaN</td>\n",
       "      <td>0</td>\n",
       "      <td>3</td>\n",
       "      <td>750</td>\n",
       "      <td>None</td>\n",
       "      <td>Cloud architect &amp; data engineer</td>\n",
       "      <td>None</td>\n",
       "      <td>None</td>\n",
       "      <td>Data Engineer</td>\n",
       "      <td>Paris</td>\n",
       "      <td>2020-08-11 20:40</td>\n",
       "      <td>302</td>\n",
       "      <td>Not available - Info not provided</td>\n",
       "    </tr>\n",
       "    <tr>\n",
       "      <th>134</th>\n",
       "      <td>15</td>\n",
       "      <td>6</td>\n",
       "      <td>Thomas Bancel</td>\n",
       "      <td>Paris, France</td>\n",
       "      <td>/profile/thomasbancelpro</td>\n",
       "      <td>NaN</td>\n",
       "      <td>0</td>\n",
       "      <td>1</td>\n",
       "      <td>700</td>\n",
       "      <td>None</td>\n",
       "      <td>Data scientist &amp; développeur freelance</td>\n",
       "      <td>None</td>\n",
       "      <td>None</td>\n",
       "      <td>Data Scientist</td>\n",
       "      <td>Paris</td>\n",
       "      <td>2020-08-11 20:40</td>\n",
       "      <td>135</td>\n",
       "      <td>Not available - Info not provided</td>\n",
       "    </tr>\n",
       "    <tr>\n",
       "      <th>155</th>\n",
       "      <td>12</td>\n",
       "      <td>7</td>\n",
       "      <td>Nicolas Bancel</td>\n",
       "      <td>Paris, France</td>\n",
       "      <td>/profile/nicolasbancel</td>\n",
       "      <td>NaN</td>\n",
       "      <td>0</td>\n",
       "      <td>1</td>\n",
       "      <td>550</td>\n",
       "      <td>None</td>\n",
       "      <td>Data scientist | data engineer | python / sql</td>\n",
       "      <td>Disponible</td>\n",
       "      <td>[AVAILABLE_AND_VERIFIED, FULL_TIME]</td>\n",
       "      <td>Data Scientist</td>\n",
       "      <td>Paris</td>\n",
       "      <td>2020-08-11 20:40</td>\n",
       "      <td>156</td>\n",
       "      <td>Available Full Time</td>\n",
       "    </tr>\n",
       "    <tr>\n",
       "      <th>301</th>\n",
       "      <td>14</td>\n",
       "      <td>13</td>\n",
       "      <td>Victor Challier</td>\n",
       "      <td>Paris, France</td>\n",
       "      <td>/profile/victorchallier</td>\n",
       "      <td>NaN</td>\n",
       "      <td>0</td>\n",
       "      <td>3</td>\n",
       "      <td>750</td>\n",
       "      <td>None</td>\n",
       "      <td>Cloud architect &amp; data engineer</td>\n",
       "      <td>None</td>\n",
       "      <td>None</td>\n",
       "      <td>Data Scientist</td>\n",
       "      <td>Paris</td>\n",
       "      <td>2020-08-11 20:40</td>\n",
       "      <td>302</td>\n",
       "      <td>Not available - Info not provided</td>\n",
       "    </tr>\n",
       "  </tbody>\n",
       "</table>\n",
       "</div>"
      ],
      "text/plain": [
       "     ranking  page_number        full_name       location  \\\n",
       "134       15            6    Thomas Bancel  Paris, France   \n",
       "503       15            6    Thomas Bancel  Paris, France   \n",
       "155       12            7   Nicolas Bancel  Paris, France   \n",
       "524       12            7   Nicolas Bancel  Paris, France   \n",
       "301       14           13  Victor Challier  Paris, France   \n",
       "670       14           13  Victor Challier  Paris, France   \n",
       "134       15            6    Thomas Bancel  Paris, France   \n",
       "155       12            7   Nicolas Bancel  Paris, France   \n",
       "301       14           13  Victor Challier  Paris, France   \n",
       "\n",
       "                freelance_url  rating  num_missions num_recos  tjm badge  \\\n",
       "134  /profile/thomasbancelpro     NaN             0         1  700  None   \n",
       "503  /profile/thomasbancelpro     NaN             0         1  700  None   \n",
       "155    /profile/nicolasbancel     NaN             0         1  550  None   \n",
       "524    /profile/nicolasbancel     NaN             0         1  550  None   \n",
       "301   /profile/victorchallier     NaN             0         3  750  None   \n",
       "670   /profile/victorchallier     NaN             0         3  750  None   \n",
       "134  /profile/thomasbancelpro     NaN             0         1  700  None   \n",
       "155    /profile/nicolasbancel     NaN             0         1  550  None   \n",
       "301   /profile/victorchallier     NaN             0         3  750  None   \n",
       "\n",
       "                                             title       dispo  \\\n",
       "134         Data scientist & développeur freelance        None   \n",
       "503         Data scientist & développeur freelance        None   \n",
       "155  Data scientist | data engineer | python / sql  Disponible   \n",
       "524  Data scientist | data engineer | python / sql  Disponible   \n",
       "301                Cloud architect & data engineer        None   \n",
       "670                Cloud architect & data engineer        None   \n",
       "134         Data scientist & développeur freelance        None   \n",
       "155  Data scientist | data engineer | python / sql  Disponible   \n",
       "301                Cloud architect & data engineer        None   \n",
       "\n",
       "                           dispo_details  search_keyword search_location  \\\n",
       "134                                 None   Data Engineer           Paris   \n",
       "503                                 None   Data Engineer           Paris   \n",
       "155  [AVAILABLE_AND_VERIFIED, FULL_TIME]   Data Engineer           Paris   \n",
       "524  [AVAILABLE_AND_VERIFIED, FULL_TIME]   Data Engineer           Paris   \n",
       "301                                 None   Data Engineer           Paris   \n",
       "670                                 None   Data Engineer           Paris   \n",
       "134                                 None  Data Scientist           Paris   \n",
       "155  [AVAILABLE_AND_VERIFIED, FULL_TIME]  Data Scientist           Paris   \n",
       "301                                 None  Data Scientist           Paris   \n",
       "\n",
       "       execution_time  global_ranking                        dispo_final  \n",
       "134  2020-08-11 20:40             135  Not available - Info not provided  \n",
       "503  2020-08-11 20:40             135  Not available - Info not provided  \n",
       "155  2020-08-11 20:40             156                Available Full Time  \n",
       "524  2020-08-11 20:40             156                Available Full Time  \n",
       "301  2020-08-11 20:40             302  Not available - Info not provided  \n",
       "670  2020-08-11 20:40             302  Not available - Info not provided  \n",
       "134  2020-08-11 20:40             135  Not available - Info not provided  \n",
       "155  2020-08-11 20:40             156                Available Full Time  \n",
       "301  2020-08-11 20:40             302  Not available - Info not provided  "
      ]
     },
     "execution_count": 612,
     "metadata": {},
     "output_type": "execute_result"
    }
   ],
   "source": [
    "freelance_list = ['Nicolas Bancel', 'Clement Jambou', 'Victor Challier', 'Thomas Bancel']\n",
    "freelance_info[freelance_info['full_name'].isin(freelance_list)].sort_values(by=['search_keyword','global_ranking'],\n",
    "                                                                            ascending=[True, True])"
   ]
  },
  {
   "cell_type": "markdown",
   "metadata": {},
   "source": [
    "## Outputting / reading data <a id='output'>"
   ]
  },
  {
   "cell_type": "code",
   "execution_count": null,
   "metadata": {},
   "outputs": [],
   "source": [
    "freelance_info.to_csv('freelance_info_20200811.csv')\n",
    "skills_df.to_csv('freelance_skills_20200811.csv')"
   ]
  },
  {
   "cell_type": "code",
   "execution_count": null,
   "metadata": {},
   "outputs": [],
   "source": [
    "skills_df.to_csv('freelance_skills_20200811.csv')"
   ]
  },
  {
   "cell_type": "code",
   "execution_count": null,
   "metadata": {},
   "outputs": [],
   "source": [
    "# And reading data\n",
    "df = pd.read_csv('freelance_info.csv')"
   ]
  },
  {
   "cell_type": "markdown",
   "metadata": {},
   "source": [
    "## Testing<a id='testing'>"
   ]
  },
  {
   "cell_type": "markdown",
   "metadata": {},
   "source": [
    "### Extracting data from the page<a id='extracting'>"
   ]
  },
  {
   "cell_type": "code",
   "execution_count": null,
   "metadata": {},
   "outputs": [],
   "source": [
    "html_code = driver.page_source\n",
    "soup = BeautifulSoup(html_code, 'html.parser')"
   ]
  },
  {
   "cell_type": "markdown",
   "metadata": {},
   "source": [
    "### Testing / HTML<a id='html'>"
   ]
  },
  {
   "cell_type": "code",
   "execution_count": null,
   "metadata": {},
   "outputs": [],
   "source": [
    "# bug = freelance_list[-2]\n",
    "# print('Name: {}'.format(bug.find('p', 'profile-card-header__full-name').string.strip()))\n",
    "# print('Num recos : {}'.format(bug.find('div','profile-card-reputation__recommendation-label')))\n",
    "# print('Num missions : {}'.format(bug.find('div','profile-card-reputation__item').find('strong').text.strip('()missions')))\n",
    "# print('TJM : {}'.format(bug.find('p', 'profile-card-reputation__rate').find('strong').text))"
   ]
  },
  {
   "cell_type": "code",
   "execution_count": null,
   "metadata": {},
   "outputs": [],
   "source": [
    "#freelance_info.global_ranking.astype(int)\n",
    "#freelance_info[freelance_info['global_ranking'].isnull()]"
   ]
  },
  {
   "cell_type": "code",
   "execution_count": null,
   "metadata": {},
   "outputs": [],
   "source": [
    "# who_num = -1\n",
    "# freelance = freelance_list[who_num]\n",
    "# print('Name: {}'.format(freelance.find('p', 'profile-card-header__full-name').string.strip()))\n",
    "\n",
    "# # Num of missions\n",
    "# print('Num missions : {}'.format(freelance.find('div','profile-card-reputation__item') \\\n",
    "#          .find('span','sr-only') \\\n",
    "#          .previous_sibling.strip('()') if freelance.find('div','profile-card-reputation__item').find('span','sr-only') \\\n",
    "#          else None))\n",
    "# #print('Num missions : {}'.format(freelance.find('div','profile-card-reputation__item').find('strong').text.strip('()missions')))\n",
    "\n",
    "# # Num of recommendations\n",
    "# print('Num recos : {}'.format(freelance.find('div','profile-card-reputation__recommendation-label').find('strong').text \\\n",
    "#                                  if freelance.find('div','profile-card-reputation__recommendation-label') \\\n",
    "#                                  else None))\n",
    "\n",
    "# # TJM is correct\n",
    "# print('TJM : {}'.format(freelance.find('p', 'profile-card-reputation__rate').find('strong').text))\n"
   ]
  },
  {
   "cell_type": "code",
   "execution_count": null,
   "metadata": {},
   "outputs": [],
   "source": [
    "page_num = 37\n",
    "url = f'https://www.malt.fr/s?q=Data&location=Paris%2C+France&lon=2.34771&lat=48.8546&countryCode=FR&country=France&administrativeAreaLevel1=%C3%8Ele-de-France&administrativeAreaLevel1Code=%C3%8Ele-de-France&administrativeAreaLevel2Code=75000&city=Paris&f-fam=&f-cat=&p={page_num}'\n",
    "driver.get(url)"
   ]
  },
  {
   "cell_type": "code",
   "execution_count": null,
   "metadata": {
    "scrolled": true
   },
   "outputs": [],
   "source": [
    "freelance_info_specific_search[freelance_info_specific_search['full_name']== 'Nicolas Bancel']\n",
    "freelance_info[freelance_info['full_name']== 'Nicolas Bancel']"
   ]
  },
  {
   "cell_type": "code",
   "execution_count": null,
   "metadata": {},
   "outputs": [],
   "source": [
    "# Renders a string representation of the Series\n",
    "#freelance_info['dispo_details'].to_string()\n",
    "freelance_info['dispo_details'].astype(str).unique()"
   ]
  },
  {
   "cell_type": "code",
   "execution_count": null,
   "metadata": {},
   "outputs": [],
   "source": [
    "#for x in freelance_info['dispo_details'].head(12):\n",
    "    #print(x)\n",
    "    #print(type(x))\n",
    "#   print(len(x))\n",
    "    \n",
    "# lambda_func = lambda x : print(x, x[1])\n",
    "# freelance_info['dispo_details'].map(lambda_func)\n",
    "\n",
    "#freelance_info.global_ranking.astype(int)\n",
    "#freelance_info.dtypes"
   ]
  },
  {
   "cell_type": "code",
   "execution_count": null,
   "metadata": {},
   "outputs": [],
   "source": [
    "old_page_number = 10\n",
    "new_page_number = 11\n",
    "current_url = f'https://www.malt.fr/s?q=Data&location=Paris%2C+France&lon=2.34771&lat=48.8546&countryCode=FR&country=France&administrativeAreaLevel1=%C3%8Ele-de-France&administrativeAreaLevel1Code=%C3%8Ele-de-France&administrativeAreaLevel2Code=75000&city=Paris&f-fam=&f-cat=&p={old_page_number}'\n",
    "generate_paged_url(current_url, new_page_number)\n",
    "\n",
    "index_page = current_url.find('&p=')\n",
    "current_url[:index_page] + f'&p={new_page_number}'"
   ]
  },
  {
   "cell_type": "code",
   "execution_count": null,
   "metadata": {},
   "outputs": [],
   "source": [
    "page_num = 37\n",
    "url = f'https://www.malt.fr/s?q=Data&location=Paris%2C+France&lon=2.34771&lat=48.8546&countryCode=FR&country=France&administrativeAreaLevel1=%C3%8Ele-de-France&administrativeAreaLevel1Code=%C3%8Ele-de-France&administrativeAreaLevel2Code=75000&city=Paris&f-fam=&f-cat=&p={page_num}'\n",
    "driver.get(url)"
   ]
  },
  {
   "cell_type": "code",
   "execution_count": null,
   "metadata": {},
   "outputs": [],
   "source": [
    "current_url = 'https://www.malt.fr/s?q=Data&location=Paris%2C+France&lon=2.34771&lat=48.8546&countryCode=FR&country=France&administrativeAreaLevel1=%C3%8Ele-de-France&administrativeAreaLevel1Code=%C3%8Ele-de-France&administrativeAreaLevel2Code=75000&city=Paris&f-fam=&f-cat=&p=2'\n",
    "len_url = len(current_url)\n",
    "index_page = current_url.find('&p=')"
   ]
  },
  {
   "cell_type": "markdown",
   "metadata": {},
   "source": [
    "### Testing / Meaning of elements<a id='elements'>"
   ]
  },
  {
   "cell_type": "markdown",
   "metadata": {},
   "source": [
    "- Documentation Selenium : https://selenium-python.readthedocs.io/api.html"
   ]
  },
  {
   "cell_type": "code",
   "execution_count": null,
   "metadata": {
    "scrolled": true
   },
   "outputs": [],
   "source": [
    "# attributes_list = ['required', 'name', 'type', 'pattern', 'id']\n",
    "# for att in attributes_list:\n",
    "#     print(username_element.get_attribute(att))"
   ]
  },
  {
   "cell_type": "code",
   "execution_count": null,
   "metadata": {},
   "outputs": [],
   "source": [
    "# first_skill['data-content'] if first_skill.has_attr('data-content') else None\n",
    "# second_skill['data-content'] if second_skill.has_attr('data-content') else None"
   ]
  },
  {
   "cell_type": "code",
   "execution_count": null,
   "metadata": {},
   "outputs": [],
   "source": [
    "#### TESTING SIGN IN LINK\n",
    "\n",
    "# (1) driver.find_element_by_name('signinlink').click() // does not work\n",
    "\n",
    "# (2) element = driver.find_element_by_name('signinlink')\n",
    "# ActionChains(browser).click(element).perform() // Does not work\n",
    "\n",
    "# (3) element = driver.find_element_by_class_name('main-header-nav__link')\n",
    "# Gets the signup link - they share the same class name\n",
    "\n",
    "\n",
    "#driver.find_element_by_id('j_username').send_keys(MALT_USERNAME)\n",
    "#driver.find_element_by_name('email').send_keys(MALT_USERNAME)\n",
    "#driver.find_element_by_name('password').send_keys(MALT_PASSWORD)"
   ]
  },
  {
   "cell_type": "code",
   "execution_count": null,
   "metadata": {},
   "outputs": [],
   "source": [
    "driver.find_element_by_id('location2').clear()\n",
    "#driver.find_element_by_id('location2').send_keys(MALT_SEARCH_LOCATION, Keys.RETURN)\n"
   ]
  },
  {
   "cell_type": "markdown",
   "metadata": {},
   "source": [
    "## Classes"
   ]
  },
  {
   "cell_type": "code",
   "execution_count": 727,
   "metadata": {},
   "outputs": [],
   "source": [
    "class Webdriver:\n",
    "# class Webdriver(MALT_URL, MALT_USERNAME, MALT_PASSWORD):\n",
    "\n",
    "    def __init__(self, MALT_URL, MALT_USERNAME, MALT_PASSWORD):\n",
    "        self.MALT_URL       = MALT_URL\n",
    "        self.MALT_USERNAME  = MALT_USERNAME\n",
    "        self.MALT_PASSWORD  = MALT_PASSWORD\n",
    "\n",
    "    def generate_browser(self):\n",
    "        self.driver = webdriver.Chrome(ChromeDriverManager().install())\n",
    "        self.driver.get(self.MALT_URL)\n",
    "        time.sleep(5)\n",
    "\n",
    "    def login(self):\n",
    "        element = self.driver.find_element_by_id('signinlink')\n",
    "        time.sleep(10)\n",
    "        element.click()\n",
    "\n",
    "        ##### USERNAME #####\n",
    "        time.sleep(2)\n",
    "        username_element = self.driver.find_element_by_id('j_username')\n",
    "        time.sleep(2)\n",
    "        username_element.send_keys(self.MALT_USERNAME)\n",
    "        time.sleep(2)\n",
    "\n",
    "        ##### PASSWORD #####\n",
    "        password_element = driver.find_element_by_id('signin_password')\n",
    "        time.sleep(2)\n",
    "        password_element.send_keys(self.MALT_PASSWORD)\n",
    "        time.sleep(2)\n",
    "\n",
    "        ##### SIGNIN #####\n",
    "        self.driver.find_element_by_id('btnSignin').click()\n",
    "\n",
    "    def search(self, MALT_SEARCH_KEYWORD, MALT_SEARCH_LOCATION):\n",
    "        ##### SEARCH #####\n",
    "        time.sleep(5)\n",
    "        self.driver.find_element_by_id('main-header-search').click()\n",
    "\n",
    "        ##### ENTERING KEY WORDS #####\n",
    "        time.sleep(5)\n",
    "        self.driver.find_element_by_id('q2').clear()\n",
    "        self.driver.find_element_by_id('q2').send_keys(MALT_SEARCH_KEYWORD)\n",
    "\n",
    "        ##### ENTERING THE LOCATION #####\n",
    "        ##### Need to clear the field first #####\n",
    "        time.sleep(4)\n",
    "        length_current_search = len(self.driver.find_element_by_id('location2').get_attribute('value'))\n",
    "        self.driver.find_element_by_id('location2').click()\n",
    "        while length_current_search > 0:\n",
    "            # Gets to the middle of the text, so need to delete what's on the left (BACK_SPACE) and what's on the right (DELETE)\n",
    "            self.driver.find_element_by_id('location2').send_keys(Keys.BACK_SPACE)\n",
    "            self.driver.find_element_by_id('location2').send_keys(Keys.DELETE)\n",
    "            length_current_search = len(driver.find_element_by_id('location2').get_attribute('value'))\n",
    "        time.sleep(2)\n",
    "        self.driver.find_element_by_id('location2').send_keys(MALT_SEARCH_LOCATION)\n",
    "\n",
    "        ##### VALIDATING THE SEARCH #####\n",
    "        time.sleep(5)\n",
    "        self.driver.find_element_by_id('searchBtn2').click()\n",
    "\n",
    "    def getting_num_pages(self):\n",
    "        html_code = self.driver.page_source\n",
    "        soup = BeautifulSoup(html_code, 'html.parser')\n",
    "        freelance_list = soup.findAll(\"section\", {\"class\": \"profile-card\"})\n",
    "\n",
    "        pages_list = soup.find('ul', 'results-pager__list').find_all('a','results-pager__item')\n",
    "        pages_list = [x.text.strip() for x in pages_list]\n",
    "        num_pages = int(pages_list[-1])\n",
    "        return num_pages"
   ]
  },
  {
   "cell_type": "code",
   "execution_count": 734,
   "metadata": {},
   "outputs": [],
   "source": [
    "malt_driver = WebDriver(MALT_URL = 'https://www.malt.fr/',\n",
    "                       MALT_USERNAME='nicolas.bancel@gmail.com',\n",
    "                       MALT_PASSWORD='xxxxx',\n",
    "                       )"
   ]
  },
  {
   "cell_type": "code",
   "execution_count": 729,
   "metadata": {},
   "outputs": [
    {
     "ename": "TypeError",
     "evalue": "__init__() missing 3 required positional arguments: 'MALT_URL', 'MALT_USERNAME', and 'MALT_PASSWORD'",
     "output_type": "error",
     "traceback": [
      "\u001b[0;31m---------------------------------------------------------------------------\u001b[0m",
      "\u001b[0;31mTypeError\u001b[0m                                 Traceback (most recent call last)",
      "\u001b[0;32m<ipython-input-729-eb204cfbc38f>\u001b[0m in \u001b[0;36m<module>\u001b[0;34m\u001b[0m\n\u001b[0;32m----> 1\u001b[0;31m \u001b[0mmalt_driver\u001b[0m \u001b[0;34m=\u001b[0m \u001b[0mWebDriver\u001b[0m\u001b[0;34m(\u001b[0m\u001b[0;34m)\u001b[0m\u001b[0;34m\u001b[0m\u001b[0;34m\u001b[0m\u001b[0m\n\u001b[0m",
      "\u001b[0;31mTypeError\u001b[0m: __init__() missing 3 required positional arguments: 'MALT_URL', 'MALT_USERNAME', and 'MALT_PASSWORD'"
     ]
    }
   ],
   "source": [
    "malt_driver = WebDriver()"
   ]
  },
  {
   "cell_type": "code",
   "execution_count": 719,
   "metadata": {},
   "outputs": [
    {
     "name": "stderr",
     "output_type": "stream",
     "text": [
      "[WDM] - Current google-chrome version is 84.0.4147\n",
      "[WDM] - Get LATEST driver version for 84.0.4147\n",
      "[WDM] - Driver [/Users/nicolasbancel/.wdm/drivers/chromedriver/mac64/84.0.4147.30/chromedriver] found in cache\n"
     ]
    },
    {
     "name": "stdout",
     "output_type": "stream",
     "text": [
      " \n"
     ]
    }
   ],
   "source": [
    "MALT_SEARCH_KEYWORD = 'Data Scientist'\n",
    "MALT_SEARCH_LOCATION = 'Paris, France'\n",
    "\n",
    "malt_driver.generate_browser()\n",
    "malt_driver.login()\n",
    "malt_driver.search(MALT_SEARCH_KEYWORD, MALT_SEARCH_LOCATION)"
   ]
  },
  {
   "cell_type": "code",
   "execution_count": 720,
   "metadata": {},
   "outputs": [
    {
     "data": {
      "text/html": [
       "<div>\n",
       "<style scoped>\n",
       "    .dataframe tbody tr th:only-of-type {\n",
       "        vertical-align: middle;\n",
       "    }\n",
       "\n",
       "    .dataframe tbody tr th {\n",
       "        vertical-align: top;\n",
       "    }\n",
       "\n",
       "    .dataframe thead th {\n",
       "        text-align: right;\n",
       "    }\n",
       "</style>\n",
       "<table border=\"1\" class=\"dataframe\">\n",
       "  <thead>\n",
       "    <tr style=\"text-align: right;\">\n",
       "      <th></th>\n",
       "      <th>full_name</th>\n",
       "      <th>skill</th>\n",
       "      <th>skill_ranking</th>\n",
       "      <th>skill_certified</th>\n",
       "      <th>skill_comment</th>\n",
       "      <th>search_keyword</th>\n",
       "      <th>search_location</th>\n",
       "      <th>execution_time</th>\n",
       "    </tr>\n",
       "  </thead>\n",
       "  <tbody>\n",
       "    <tr>\n",
       "      <th>0</th>\n",
       "      <td>David Martin Balli</td>\n",
       "      <td>Data science</td>\n",
       "      <td>1</td>\n",
       "      <td>False</td>\n",
       "      <td>None</td>\n",
       "      <td>Data Engineer</td>\n",
       "      <td>Paris, France</td>\n",
       "      <td>2020-08-12 00:37</td>\n",
       "    </tr>\n",
       "    <tr>\n",
       "      <th>1</th>\n",
       "      <td>David Martin Balli</td>\n",
       "      <td>MySQL</td>\n",
       "      <td>2</td>\n",
       "      <td>False</td>\n",
       "      <td>None</td>\n",
       "      <td>Data Engineer</td>\n",
       "      <td>Paris, France</td>\n",
       "      <td>2020-08-12 00:37</td>\n",
       "    </tr>\n",
       "    <tr>\n",
       "      <th>2</th>\n",
       "      <td>David Martin Balli</td>\n",
       "      <td>SQL Server</td>\n",
       "      <td>3</td>\n",
       "      <td>False</td>\n",
       "      <td>None</td>\n",
       "      <td>Data Engineer</td>\n",
       "      <td>Paris, France</td>\n",
       "      <td>2020-08-12 00:37</td>\n",
       "    </tr>\n",
       "    <tr>\n",
       "      <th>3</th>\n",
       "      <td>David Martin Balli</td>\n",
       "      <td>noSQL</td>\n",
       "      <td>4</td>\n",
       "      <td>False</td>\n",
       "      <td>None</td>\n",
       "      <td>Data Engineer</td>\n",
       "      <td>Paris, France</td>\n",
       "      <td>2020-08-12 00:37</td>\n",
       "    </tr>\n",
       "    <tr>\n",
       "      <th>4</th>\n",
       "      <td>David Martin Balli</td>\n",
       "      <td>Python</td>\n",
       "      <td>5</td>\n",
       "      <td>False</td>\n",
       "      <td>None</td>\n",
       "      <td>Data Engineer</td>\n",
       "      <td>Paris, France</td>\n",
       "      <td>2020-08-12 00:37</td>\n",
       "    </tr>\n",
       "    <tr>\n",
       "      <th>...</th>\n",
       "      <td>...</td>\n",
       "      <td>...</td>\n",
       "      <td>...</td>\n",
       "      <td>...</td>\n",
       "      <td>...</td>\n",
       "      <td>...</td>\n",
       "      <td>...</td>\n",
       "      <td>...</td>\n",
       "    </tr>\n",
       "    <tr>\n",
       "      <th>5197</th>\n",
       "      <td>Philippe De Cuzey</td>\n",
       "      <td>Big Data</td>\n",
       "      <td>14</td>\n",
       "      <td>False</td>\n",
       "      <td>None</td>\n",
       "      <td>Data Engineer</td>\n",
       "      <td>Paris, France</td>\n",
       "      <td>2020-08-12 00:37</td>\n",
       "    </tr>\n",
       "    <tr>\n",
       "      <th>5198</th>\n",
       "      <td>Philippe De Cuzey</td>\n",
       "      <td>mySQL</td>\n",
       "      <td>15</td>\n",
       "      <td>False</td>\n",
       "      <td>None</td>\n",
       "      <td>Data Engineer</td>\n",
       "      <td>Paris, France</td>\n",
       "      <td>2020-08-12 00:37</td>\n",
       "    </tr>\n",
       "    <tr>\n",
       "      <th>5199</th>\n",
       "      <td>Philippe De Cuzey</td>\n",
       "      <td>Deep Learning</td>\n",
       "      <td>16</td>\n",
       "      <td>False</td>\n",
       "      <td>None</td>\n",
       "      <td>Data Engineer</td>\n",
       "      <td>Paris, France</td>\n",
       "      <td>2020-08-12 00:37</td>\n",
       "    </tr>\n",
       "    <tr>\n",
       "      <th>5200</th>\n",
       "      <td>Philippe De Cuzey</td>\n",
       "      <td>Data mining</td>\n",
       "      <td>17</td>\n",
       "      <td>False</td>\n",
       "      <td>None</td>\n",
       "      <td>Data Engineer</td>\n",
       "      <td>Paris, France</td>\n",
       "      <td>2020-08-12 00:37</td>\n",
       "    </tr>\n",
       "    <tr>\n",
       "      <th>5201</th>\n",
       "      <td>Philippe De Cuzey</td>\n",
       "      <td>Data science</td>\n",
       "      <td>18</td>\n",
       "      <td>False</td>\n",
       "      <td>None</td>\n",
       "      <td>Data Engineer</td>\n",
       "      <td>Paris, France</td>\n",
       "      <td>2020-08-12 00:37</td>\n",
       "    </tr>\n",
       "  </tbody>\n",
       "</table>\n",
       "<p>5202 rows × 8 columns</p>\n",
       "</div>"
      ],
      "text/plain": [
       "               full_name          skill skill_ranking skill_certified  \\\n",
       "0     David Martin Balli   Data science             1           False   \n",
       "1     David Martin Balli          MySQL             2           False   \n",
       "2     David Martin Balli     SQL Server             3           False   \n",
       "3     David Martin Balli          noSQL             4           False   \n",
       "4     David Martin Balli         Python             5           False   \n",
       "...                  ...            ...           ...             ...   \n",
       "5197   Philippe De Cuzey       Big Data            14           False   \n",
       "5198   Philippe De Cuzey          mySQL            15           False   \n",
       "5199   Philippe De Cuzey  Deep Learning            16           False   \n",
       "5200   Philippe De Cuzey    Data mining            17           False   \n",
       "5201   Philippe De Cuzey   Data science            18           False   \n",
       "\n",
       "     skill_comment search_keyword search_location    execution_time  \n",
       "0             None  Data Engineer   Paris, France  2020-08-12 00:37  \n",
       "1             None  Data Engineer   Paris, France  2020-08-12 00:37  \n",
       "2             None  Data Engineer   Paris, France  2020-08-12 00:37  \n",
       "3             None  Data Engineer   Paris, France  2020-08-12 00:37  \n",
       "4             None  Data Engineer   Paris, France  2020-08-12 00:37  \n",
       "...            ...            ...             ...               ...  \n",
       "5197          None  Data Engineer   Paris, France  2020-08-12 00:37  \n",
       "5198          None  Data Engineer   Paris, France  2020-08-12 00:37  \n",
       "5199          None  Data Engineer   Paris, France  2020-08-12 00:37  \n",
       "5200          None  Data Engineer   Paris, France  2020-08-12 00:37  \n",
       "5201          None  Data Engineer   Paris, France  2020-08-12 00:37  \n",
       "\n",
       "[5202 rows x 8 columns]"
      ]
     },
     "execution_count": 720,
     "metadata": {},
     "output_type": "execute_result"
    }
   ],
   "source": [
    "skills_df_specific_search"
   ]
  },
  {
   "cell_type": "code",
   "execution_count": 721,
   "metadata": {},
   "outputs": [],
   "source": [
    "skills_df_specific_search_other = skills_df_specific_search.copy()"
   ]
  },
  {
   "cell_type": "code",
   "execution_count": 722,
   "metadata": {},
   "outputs": [],
   "source": [
    "dict_skills = {'full_name':['NB', 'NB'],\n",
    "               'skill':['Hello', 'Hello 2'],\n",
    "               'skill_ranking':[None, None],\n",
    "               'skill_certified':[None, None],\n",
    "               'skill_comment':[None, None],\n",
    "               'search_keyword':[None, None],\n",
    "               'search_location':[None, None],\n",
    "               'execution_time':[None, None]}"
   ]
  },
  {
   "cell_type": "code",
   "execution_count": 724,
   "metadata": {},
   "outputs": [
    {
     "data": {
      "text/html": [
       "<div>\n",
       "<style scoped>\n",
       "    .dataframe tbody tr th:only-of-type {\n",
       "        vertical-align: middle;\n",
       "    }\n",
       "\n",
       "    .dataframe tbody tr th {\n",
       "        vertical-align: top;\n",
       "    }\n",
       "\n",
       "    .dataframe thead th {\n",
       "        text-align: right;\n",
       "    }\n",
       "</style>\n",
       "<table border=\"1\" class=\"dataframe\">\n",
       "  <thead>\n",
       "    <tr style=\"text-align: right;\">\n",
       "      <th></th>\n",
       "      <th>full_name</th>\n",
       "      <th>skill</th>\n",
       "      <th>skill_ranking</th>\n",
       "      <th>skill_certified</th>\n",
       "      <th>skill_comment</th>\n",
       "      <th>search_keyword</th>\n",
       "      <th>search_location</th>\n",
       "      <th>execution_time</th>\n",
       "    </tr>\n",
       "  </thead>\n",
       "  <tbody>\n",
       "    <tr>\n",
       "      <th>0</th>\n",
       "      <td>David Martin Balli</td>\n",
       "      <td>Data science</td>\n",
       "      <td>1</td>\n",
       "      <td>False</td>\n",
       "      <td>None</td>\n",
       "      <td>Data Engineer</td>\n",
       "      <td>Paris, France</td>\n",
       "      <td>2020-08-12 00:37</td>\n",
       "    </tr>\n",
       "    <tr>\n",
       "      <th>1</th>\n",
       "      <td>David Martin Balli</td>\n",
       "      <td>MySQL</td>\n",
       "      <td>2</td>\n",
       "      <td>False</td>\n",
       "      <td>None</td>\n",
       "      <td>Data Engineer</td>\n",
       "      <td>Paris, France</td>\n",
       "      <td>2020-08-12 00:37</td>\n",
       "    </tr>\n",
       "    <tr>\n",
       "      <th>2</th>\n",
       "      <td>David Martin Balli</td>\n",
       "      <td>SQL Server</td>\n",
       "      <td>3</td>\n",
       "      <td>False</td>\n",
       "      <td>None</td>\n",
       "      <td>Data Engineer</td>\n",
       "      <td>Paris, France</td>\n",
       "      <td>2020-08-12 00:37</td>\n",
       "    </tr>\n",
       "    <tr>\n",
       "      <th>3</th>\n",
       "      <td>David Martin Balli</td>\n",
       "      <td>noSQL</td>\n",
       "      <td>4</td>\n",
       "      <td>False</td>\n",
       "      <td>None</td>\n",
       "      <td>Data Engineer</td>\n",
       "      <td>Paris, France</td>\n",
       "      <td>2020-08-12 00:37</td>\n",
       "    </tr>\n",
       "    <tr>\n",
       "      <th>4</th>\n",
       "      <td>David Martin Balli</td>\n",
       "      <td>Python</td>\n",
       "      <td>5</td>\n",
       "      <td>False</td>\n",
       "      <td>None</td>\n",
       "      <td>Data Engineer</td>\n",
       "      <td>Paris, France</td>\n",
       "      <td>2020-08-12 00:37</td>\n",
       "    </tr>\n",
       "    <tr>\n",
       "      <th>...</th>\n",
       "      <td>...</td>\n",
       "      <td>...</td>\n",
       "      <td>...</td>\n",
       "      <td>...</td>\n",
       "      <td>...</td>\n",
       "      <td>...</td>\n",
       "      <td>...</td>\n",
       "      <td>...</td>\n",
       "    </tr>\n",
       "    <tr>\n",
       "      <th>5199</th>\n",
       "      <td>Philippe De Cuzey</td>\n",
       "      <td>Deep Learning</td>\n",
       "      <td>16</td>\n",
       "      <td>False</td>\n",
       "      <td>None</td>\n",
       "      <td>Data Engineer</td>\n",
       "      <td>Paris, France</td>\n",
       "      <td>2020-08-12 00:37</td>\n",
       "    </tr>\n",
       "    <tr>\n",
       "      <th>5200</th>\n",
       "      <td>Philippe De Cuzey</td>\n",
       "      <td>Data mining</td>\n",
       "      <td>17</td>\n",
       "      <td>False</td>\n",
       "      <td>None</td>\n",
       "      <td>Data Engineer</td>\n",
       "      <td>Paris, France</td>\n",
       "      <td>2020-08-12 00:37</td>\n",
       "    </tr>\n",
       "    <tr>\n",
       "      <th>5201</th>\n",
       "      <td>Philippe De Cuzey</td>\n",
       "      <td>Data science</td>\n",
       "      <td>18</td>\n",
       "      <td>False</td>\n",
       "      <td>None</td>\n",
       "      <td>Data Engineer</td>\n",
       "      <td>Paris, France</td>\n",
       "      <td>2020-08-12 00:37</td>\n",
       "    </tr>\n",
       "    <tr>\n",
       "      <th>5202</th>\n",
       "      <td>[NB, NB]</td>\n",
       "      <td>[Hello, Hello 2]</td>\n",
       "      <td>[None, None]</td>\n",
       "      <td>[None, None]</td>\n",
       "      <td>[None, None]</td>\n",
       "      <td>[None, None]</td>\n",
       "      <td>[None, None]</td>\n",
       "      <td>[None, None]</td>\n",
       "    </tr>\n",
       "    <tr>\n",
       "      <th>5203</th>\n",
       "      <td>[NB, NB]</td>\n",
       "      <td>[Hello, Hello 2]</td>\n",
       "      <td>[None, None]</td>\n",
       "      <td>[None, None]</td>\n",
       "      <td>[None, None]</td>\n",
       "      <td>[None, None]</td>\n",
       "      <td>[None, None]</td>\n",
       "      <td>[None, None]</td>\n",
       "    </tr>\n",
       "  </tbody>\n",
       "</table>\n",
       "<p>5204 rows × 8 columns</p>\n",
       "</div>"
      ],
      "text/plain": [
       "               full_name             skill skill_ranking skill_certified  \\\n",
       "0     David Martin Balli      Data science             1           False   \n",
       "1     David Martin Balli             MySQL             2           False   \n",
       "2     David Martin Balli        SQL Server             3           False   \n",
       "3     David Martin Balli             noSQL             4           False   \n",
       "4     David Martin Balli            Python             5           False   \n",
       "...                  ...               ...           ...             ...   \n",
       "5199   Philippe De Cuzey     Deep Learning            16           False   \n",
       "5200   Philippe De Cuzey       Data mining            17           False   \n",
       "5201   Philippe De Cuzey      Data science            18           False   \n",
       "5202            [NB, NB]  [Hello, Hello 2]  [None, None]    [None, None]   \n",
       "5203            [NB, NB]  [Hello, Hello 2]  [None, None]    [None, None]   \n",
       "\n",
       "     skill_comment search_keyword search_location    execution_time  \n",
       "0             None  Data Engineer   Paris, France  2020-08-12 00:37  \n",
       "1             None  Data Engineer   Paris, France  2020-08-12 00:37  \n",
       "2             None  Data Engineer   Paris, France  2020-08-12 00:37  \n",
       "3             None  Data Engineer   Paris, France  2020-08-12 00:37  \n",
       "4             None  Data Engineer   Paris, France  2020-08-12 00:37  \n",
       "...            ...            ...             ...               ...  \n",
       "5199          None  Data Engineer   Paris, France  2020-08-12 00:37  \n",
       "5200          None  Data Engineer   Paris, France  2020-08-12 00:37  \n",
       "5201          None  Data Engineer   Paris, France  2020-08-12 00:37  \n",
       "5202  [None, None]   [None, None]    [None, None]      [None, None]  \n",
       "5203  [None, None]   [None, None]    [None, None]      [None, None]  \n",
       "\n",
       "[5204 rows x 8 columns]"
      ]
     },
     "execution_count": 724,
     "metadata": {},
     "output_type": "execute_result"
    }
   ],
   "source": [
    "skills_df_specific_search_other = skills_df_specific_search_other.append(dict_skills, ignore_index=True)\n",
    "skills_df_specific_search_other"
   ]
  },
  {
   "cell_type": "code",
   "execution_count": null,
   "metadata": {},
   "outputs": [],
   "source": []
  }
 ],
 "metadata": {
  "kernelspec": {
   "display_name": "Python 3",
   "language": "python",
   "name": "python3"
  },
  "language_info": {
   "codemirror_mode": {
    "name": "ipython",
    "version": 3
   },
   "file_extension": ".py",
   "mimetype": "text/x-python",
   "name": "python",
   "nbconvert_exporter": "python",
   "pygments_lexer": "ipython3",
   "version": "3.7.6"
  }
 },
 "nbformat": 4,
 "nbformat_minor": 4
}
